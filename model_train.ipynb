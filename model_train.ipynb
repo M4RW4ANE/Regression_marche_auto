{
 "cells": [
  {
   "cell_type": "code",
   "execution_count": null,
   "metadata": {
    "vscode": {
     "languageId": "plaintext"
    }
   },
   "outputs": [],
   "source": [
    "model = LinearRegression()\n",
    "model.fit(x_train ,y_train)\n",
    "\n",
    "y_train_predict = model.predict(x_train)\n",
    "\n",
    "print('acc of train' , r2_score(y_train,y_train_predict))\n",
    "\n",
    "      \n",
    "y_test_predict = model.predict(x_test)\n",
    "\n",
    "print('acc of test' , r2_score(y_test,y_test_predict))"
   ]
  },
  {
   "cell_type": "code",
   "execution_count": null,
   "metadata": {
    "vscode": {
     "languageId": "plaintext"
    }
   },
   "outputs": [],
   "source": [
    "model = LinearRegression()\n",
    "model.fit(x_train ,np.log(y_train))\n",
    "\n",
    "y_train_predict = model.predict(x_train)\n",
    "\n",
    "print('acc of train' , r2_score(np.log(y_train),y_train_predict))\n",
    "\n",
    "      \n",
    "y_test_predict = model.predict(x_test)\n",
    "\n",
    "print('acc of test' , r2_score(np.log(y_test)\n",
    "                               ,y_test_predict))"
   ]
  },
  {
   "cell_type": "code",
   "execution_count": null,
   "metadata": {
    "vscode": {
     "languageId": "plaintext"
    }
   },
   "outputs": [],
   "source": [
    "model = DecisionTreeRegressor(max_depth=6)\n",
    "model.fit(x_train ,np.log(y_train))\n",
    "\n",
    "y_train_predict = model.predict(x_train)\n",
    "\n",
    "print('acc of train' , r2_score(np.log(y_train),y_train_predict))\n",
    "\n",
    "      \n",
    "y_test_predict = model.predict(x_test)\n",
    "\n",
    "print('acc of test' , r2_score(np.log(y_test)\n",
    "                               ,y_test_predict))"
   ]
  },
  {
   "cell_type": "code",
   "execution_count": null,
   "metadata": {
    "vscode": {
     "languageId": "plaintext"
    }
   },
   "outputs": [],
   "source": [
    "model = DecisionTreeRegressor(max_depth=6,max_leaf_nodes=42)\n",
    "model.fit(x_train ,np.log(y_train))\n",
    "\n",
    "y_train_predict = model.predict(x_train)\n",
    "\n",
    "print('acc of train' , r2_score(np.log(y_train),y_train_predict))\n",
    "\n",
    "      \n",
    "y_test_predict = model.predict(x_test)\n",
    "\n",
    "print('acc of test' , r2_score(np.log(y_test)\n",
    "                               ,y_test_predict))"
   ]
  },
  {
   "cell_type": "code",
   "execution_count": null,
   "metadata": {
    "vscode": {
     "languageId": "plaintext"
    }
   },
   "outputs": [],
   "source": [
    "model = DecisionTreeRegressor(max_depth=6,max_leaf_nodes=42,max_features=50)\n",
    "model.fit(x_train ,np.log(y_train))\n",
    "\n",
    "y_train_predict = model.predict(x_train)\n",
    "\n",
    "print('acc of train' , r2_score(np.log(y_train),y_train_predict))\n",
    "\n",
    "      \n",
    "y_test_predict = model.predict(x_test)\n",
    "\n",
    "print('acc of test' , r2_score(np.log(y_test)\n",
    "                               ,y_test_predict))"
   ]
  },
  {
   "cell_type": "code",
   "execution_count": null,
   "metadata": {
    "vscode": {
     "languageId": "plaintext"
    }
   },
   "outputs": [],
   "source": [
    "model = RandomForestRegressor(n_estimators=100 , max_depth=6,max_leaf_nodes=42,max_features=50)\n",
    "model.fit(x_train ,np.log(y_train))\n",
    "\n",
    "y_train_predict = model.predict(x_train)\n",
    "\n",
    "print('acc of train' , r2_score(np.log(y_train),y_train_predict))\n",
    "\n",
    "      \n",
    "y_test_predict = model.predict(x_test)\n",
    "\n",
    "print('acc of test' , r2_score(np.log(y_test)\n",
    "                               ,y_test_predict))"
   ]
  },
  {
   "cell_type": "code",
   "execution_count": null,
   "metadata": {
    "vscode": {
     "languageId": "plaintext"
    }
   },
   "outputs": [],
   "source": [
    "model = XGBRegressor(n_estimators=60 , max_depth=4)\n",
    "model.fit(x_train ,np.log(y_train))\n",
    "\n",
    "y_train_predict = model.predict(x_train)\n",
    "\n",
    "print('acc of train' , r2_score(np.log(y_train),y_train_predict))\n",
    "\n",
    "      \n",
    "y_test_predict = model.predict(x_test)\n",
    "\n",
    "print('acc of test' , r2_score(np.log(y_test)\n",
    "                               ,y_test_predict))"
   ]
  }
 ],
 "metadata": {
  "language_info": {
   "name": "python"
  }
 },
 "nbformat": 4,
 "nbformat_minor": 2
}
