{
 "cells": [
  {
   "cell_type": "markdown",
   "id": "5a5a125d",
   "metadata": {},
   "source": [
    "# import Libraries"
   ]
  },
  {
   "cell_type": "code",
   "execution_count": 3,
   "id": "0f327f17",
   "metadata": {
    "tags": []
   },
   "outputs": [],
   "source": [
    "import numpy as np\n",
    "import pandas as pd\n",
    "import seaborn as sns\n",
    "import matplotlib.pyplot as plt\n",
    "from sklearn.model_selection import train_test_split\n",
    "from sklearn.linear_model import LinearRegression\n",
    "from sklearn.tree import DecisionTreeRegressor\n",
    "from sklearn.ensemble import RandomForestRegressor\n",
    "# from xgboost import XGBRegressor\n",
    "from sklearn.metrics import r2_score ,mean_squared_error"
   ]
  },
  {
   "cell_type": "markdown",
   "id": "8b1b92de",
   "metadata": {},
   "source": [
    "#### Ouverture de Dataset"
   ]
  },
  {
   "cell_type": "code",
   "execution_count": 4,
   "id": "712b35be",
   "metadata": {
    "tags": []
   },
   "outputs": [
    {
     "data": {
      "text/html": [
       "<div>\n",
       "<style scoped>\n",
       "    .dataframe tbody tr th:only-of-type {\n",
       "        vertical-align: middle;\n",
       "    }\n",
       "\n",
       "    .dataframe tbody tr th {\n",
       "        vertical-align: top;\n",
       "    }\n",
       "\n",
       "    .dataframe thead th {\n",
       "        text-align: right;\n",
       "    }\n",
       "</style>\n",
       "<table border=\"1\" class=\"dataframe\">\n",
       "  <thead>\n",
       "    <tr style=\"text-align: right;\">\n",
       "      <th></th>\n",
       "      <th>Name</th>\n",
       "      <th>Location</th>\n",
       "      <th>Year</th>\n",
       "      <th>Kilometers_Driven</th>\n",
       "      <th>Fuel_Type</th>\n",
       "      <th>Transmission</th>\n",
       "      <th>Owner_Type</th>\n",
       "      <th>Mileage</th>\n",
       "      <th>Engine</th>\n",
       "      <th>Power</th>\n",
       "      <th>Seats</th>\n",
       "      <th>New_Price</th>\n",
       "      <th>Price</th>\n",
       "    </tr>\n",
       "  </thead>\n",
       "  <tbody>\n",
       "    <tr>\n",
       "      <th>0</th>\n",
       "      <td>Maruti Wagon R LXI CNG</td>\n",
       "      <td>Mumbai</td>\n",
       "      <td>2010</td>\n",
       "      <td>72000</td>\n",
       "      <td>CNG</td>\n",
       "      <td>Manual</td>\n",
       "      <td>First</td>\n",
       "      <td>26.6 km/kg</td>\n",
       "      <td>998 CC</td>\n",
       "      <td>58.16 bhp</td>\n",
       "      <td>5.0</td>\n",
       "      <td>NaN</td>\n",
       "      <td>1.75</td>\n",
       "    </tr>\n",
       "    <tr>\n",
       "      <th>1</th>\n",
       "      <td>Hyundai Creta 1.6 CRDi SX Option</td>\n",
       "      <td>Pune</td>\n",
       "      <td>2015</td>\n",
       "      <td>41000</td>\n",
       "      <td>Diesel</td>\n",
       "      <td>Manual</td>\n",
       "      <td>First</td>\n",
       "      <td>19.67 kmpl</td>\n",
       "      <td>1582 CC</td>\n",
       "      <td>126.2 bhp</td>\n",
       "      <td>5.0</td>\n",
       "      <td>NaN</td>\n",
       "      <td>12.50</td>\n",
       "    </tr>\n",
       "    <tr>\n",
       "      <th>2</th>\n",
       "      <td>Honda Jazz V</td>\n",
       "      <td>Chennai</td>\n",
       "      <td>2011</td>\n",
       "      <td>46000</td>\n",
       "      <td>Petrol</td>\n",
       "      <td>Manual</td>\n",
       "      <td>First</td>\n",
       "      <td>18.2 kmpl</td>\n",
       "      <td>1199 CC</td>\n",
       "      <td>88.7 bhp</td>\n",
       "      <td>5.0</td>\n",
       "      <td>8.61 Lakh</td>\n",
       "      <td>4.50</td>\n",
       "    </tr>\n",
       "    <tr>\n",
       "      <th>3</th>\n",
       "      <td>Maruti Ertiga VDI</td>\n",
       "      <td>Chennai</td>\n",
       "      <td>2012</td>\n",
       "      <td>87000</td>\n",
       "      <td>Diesel</td>\n",
       "      <td>Manual</td>\n",
       "      <td>First</td>\n",
       "      <td>20.77 kmpl</td>\n",
       "      <td>1248 CC</td>\n",
       "      <td>88.76 bhp</td>\n",
       "      <td>7.0</td>\n",
       "      <td>NaN</td>\n",
       "      <td>6.00</td>\n",
       "    </tr>\n",
       "    <tr>\n",
       "      <th>4</th>\n",
       "      <td>Audi A4 New 2.0 TDI Multitronic</td>\n",
       "      <td>Coimbatore</td>\n",
       "      <td>2013</td>\n",
       "      <td>40670</td>\n",
       "      <td>Diesel</td>\n",
       "      <td>Automatic</td>\n",
       "      <td>Second</td>\n",
       "      <td>15.2 kmpl</td>\n",
       "      <td>1968 CC</td>\n",
       "      <td>140.8 bhp</td>\n",
       "      <td>5.0</td>\n",
       "      <td>NaN</td>\n",
       "      <td>17.74</td>\n",
       "    </tr>\n",
       "  </tbody>\n",
       "</table>\n",
       "</div>"
      ],
      "text/plain": [
       "                               Name    Location  Year  Kilometers_Driven  \\\n",
       "0            Maruti Wagon R LXI CNG      Mumbai  2010              72000   \n",
       "1  Hyundai Creta 1.6 CRDi SX Option        Pune  2015              41000   \n",
       "2                      Honda Jazz V     Chennai  2011              46000   \n",
       "3                 Maruti Ertiga VDI     Chennai  2012              87000   \n",
       "4   Audi A4 New 2.0 TDI Multitronic  Coimbatore  2013              40670   \n",
       "\n",
       "  Fuel_Type Transmission Owner_Type     Mileage   Engine      Power  Seats  \\\n",
       "0       CNG       Manual      First  26.6 km/kg   998 CC  58.16 bhp    5.0   \n",
       "1    Diesel       Manual      First  19.67 kmpl  1582 CC  126.2 bhp    5.0   \n",
       "2    Petrol       Manual      First   18.2 kmpl  1199 CC   88.7 bhp    5.0   \n",
       "3    Diesel       Manual      First  20.77 kmpl  1248 CC  88.76 bhp    7.0   \n",
       "4    Diesel    Automatic     Second   15.2 kmpl  1968 CC  140.8 bhp    5.0   \n",
       "\n",
       "   New_Price  Price  \n",
       "0        NaN   1.75  \n",
       "1        NaN  12.50  \n",
       "2  8.61 Lakh   4.50  \n",
       "3        NaN   6.00  \n",
       "4        NaN  17.74  "
      ]
     },
     "execution_count": 4,
     "metadata": {},
     "output_type": "execute_result"
    }
   ],
   "source": [
    "data = pd.read_csv(\"datas/train.csv\")\n",
    "data.head()"
   ]
  },
  {
   "cell_type": "code",
   "execution_count": 5,
   "id": "c51d2baf",
   "metadata": {
    "tags": []
   },
   "outputs": [
    {
     "name": "stdout",
     "output_type": "stream",
     "text": [
      "<class 'pandas.core.frame.DataFrame'>\n",
      "RangeIndex: 6019 entries, 0 to 6018\n",
      "Data columns (total 13 columns):\n",
      " #   Column             Non-Null Count  Dtype  \n",
      "---  ------             --------------  -----  \n",
      " 0   Name               6019 non-null   object \n",
      " 1   Location           6019 non-null   object \n",
      " 2   Year               6019 non-null   int64  \n",
      " 3   Kilometers_Driven  6019 non-null   int64  \n",
      " 4   Fuel_Type          6019 non-null   object \n",
      " 5   Transmission       6019 non-null   object \n",
      " 6   Owner_Type         6019 non-null   object \n",
      " 7   Mileage            6017 non-null   object \n",
      " 8   Engine             5983 non-null   object \n",
      " 9   Power              5983 non-null   object \n",
      " 10  Seats              5977 non-null   float64\n",
      " 11  New_Price          824 non-null    object \n",
      " 12  Price              6019 non-null   float64\n",
      "dtypes: float64(2), int64(2), object(9)\n",
      "memory usage: 611.4+ KB\n"
     ]
    }
   ],
   "source": [
    "data.info()\n"
   ]
  },
  {
   "cell_type": "markdown",
   "id": "06d9e10b",
   "metadata": {},
   "source": [
    "# Dictionnaire de la Data\n"
   ]
  },
  {
   "cell_type": "markdown",
   "id": "b2bd1a56",
   "metadata": {},
   "source": [
    "| Nom de la colonne   | Type   | Description                                             | Valeurs manquantes |\n",
    "|---------------------|--------|---------------------------------------------------------|--------------------|\n",
    "| Marque             | STR    | Marque de la voiture.                                   | 0                  |\n",
    "| Modele             | STR    | Modèle de la marque.                                   | 0                  |\n",
    "| Location           | STR    | L'emplacement où la voiture est vendue ou disponible. | 0                  |\n",
    "| Year              | INT    | L'année ou l'édition du modèle de la voiture.         | 0                  |\n",
    "| Kilometers_Driven | INT    | Nombre total de kilomètres parcourus.                 | 0                  |\n",
    "| Fuel_Type         | STR    | Type de carburant utilisé (essence, diesel, etc.).     | 0                  |\n",
    "| Transmission      | STR    | Type de transmission (manuelle ou automatique).       | 0                  |\n",
    "| Owner_Type        | STR    | Type de propriétaire (1ère main, 2ème main, etc.).    | 0                  |\n",
    "| Mileage           | STR    | Consommation de carburant (km/l ou km/kg).            | 2                  |\n",
    "| Engine           | STR    | Volume du moteur en cc.                               | 36                 |\n",
    "| Power            | STR    | Puissance maximale du moteur en bhp.                  | 36                 |\n",
    "| Seats            | FLOAT  | Nombre de sièges dans la voiture.                     | 42                 |\n",
    "| New_Price        | STR    | Prix de la voiture neuve.                             | 5195               |\n",
    "| Price            | FLOAT  | Prix de la voiture d'occasion en INR Lakhs.          | 0                  |"
   ]
  },
  {
   "cell_type": "markdown",
   "id": "20378303",
   "metadata": {},
   "source": [
    "# Data Cleaning\n",
    " "
   ]
  },
  {
   "cell_type": "code",
   "execution_count": 6,
   "id": "ec47507e",
   "metadata": {
    "tags": []
   },
   "outputs": [
    {
     "data": {
      "text/plain": [
       "np.int64(0)"
      ]
     },
     "execution_count": 6,
     "metadata": {},
     "output_type": "execute_result"
    }
   ],
   "source": [
    "data.duplicated().sum()"
   ]
  },
  {
   "cell_type": "code",
   "execution_count": 7,
   "id": "066c204c",
   "metadata": {},
   "outputs": [
    {
     "data": {
      "text/plain": [
       "Name                    0\n",
       "Location                0\n",
       "Year                    0\n",
       "Kilometers_Driven       0\n",
       "Fuel_Type               0\n",
       "Transmission            0\n",
       "Owner_Type              0\n",
       "Mileage                 2\n",
       "Engine                 36\n",
       "Power                  36\n",
       "Seats                  42\n",
       "New_Price            5195\n",
       "Price                   0\n",
       "dtype: int64"
      ]
     },
     "execution_count": 7,
     "metadata": {},
     "output_type": "execute_result"
    }
   ],
   "source": [
    "data.isna().sum()"
   ]
  },
  {
   "cell_type": "markdown",
   "id": "a19bbc20",
   "metadata": {},
   "source": [
    "On doit drop la colonne `New_Price`, il y a trop de valeur manquante"
   ]
  },
  {
   "cell_type": "code",
   "execution_count": 8,
   "id": "d7b7e089",
   "metadata": {
    "tags": []
   },
   "outputs": [],
   "source": [
    "data.drop(\"New_Price\" ,axis=1 ,inplace =True)"
   ]
  },
  {
   "cell_type": "markdown",
   "id": "2368f5f4",
   "metadata": {},
   "source": [
    "Drop des valeurs na des colonnes `Engine` et `Power`"
   ]
  },
  {
   "cell_type": "code",
   "execution_count": 9,
   "id": "0bf168d6",
   "metadata": {},
   "outputs": [],
   "source": [
    "data = data.dropna(subset=['Engine', 'Power'])"
   ]
  },
  {
   "cell_type": "code",
   "execution_count": 10,
   "id": "a0a6d0b1",
   "metadata": {},
   "outputs": [],
   "source": [
    "# Permet de passer la colonne `Name` en lowercase\n",
    "data['Name'] = data['Name'].str.lower()"
   ]
  },
  {
   "cell_type": "markdown",
   "id": "b073ebf6",
   "metadata": {},
   "source": [
    "Fonction qui permet de split la marque du modele, et gere les marques avec 2 mots comme land rover"
   ]
  },
  {
   "cell_type": "code",
   "execution_count": 11,
   "id": "c20e4fb8",
   "metadata": {
    "tags": []
   },
   "outputs": [],
   "source": [
    "data['Marque'] = data['Name'].apply(lambda x: \"land-rover\" if x.lower().startswith(\"land rover\") else x.split()[0])"
   ]
  },
  {
   "cell_type": "code",
   "execution_count": 12,
   "id": "68b82ba9",
   "metadata": {},
   "outputs": [
    {
     "data": {
      "text/plain": [
       "Marque\n",
       "maruti           1200\n",
       "hyundai          1100\n",
       "honda             602\n",
       "toyota            410\n",
       "mercedes-benz     318\n",
       "volkswagen        315\n",
       "ford              300\n",
       "mahindra          272\n",
       "bmw               262\n",
       "audi              236\n",
       "tata              186\n",
       "skoda             173\n",
       "renault           145\n",
       "chevrolet         121\n",
       "nissan             91\n",
       "land-rover         57\n",
       "jaguar             40\n",
       "mitsubishi         27\n",
       "mini               26\n",
       "fiat               25\n",
       "volvo              21\n",
       "porsche            18\n",
       "jeep               15\n",
       "datsun             13\n",
       "isuzu               3\n",
       "force               3\n",
       "smart               1\n",
       "ambassador          1\n",
       "bentley             1\n",
       "lamborghini         1\n",
       "Name: count, dtype: int64"
      ]
     },
     "execution_count": 12,
     "metadata": {},
     "output_type": "execute_result"
    }
   ],
   "source": [
    "data['Marque'].value_counts()"
   ]
  },
  {
   "cell_type": "code",
   "execution_count": 13,
   "id": "6a4691bf",
   "metadata": {},
   "outputs": [],
   "source": [
    "def extract_model(name):\n",
    "    name_parts = name.split()\n",
    "    if \"land\" in name.lower():\n",
    "        return \" \".join(name_parts[2:])  # Récupère tout après les deux premiers mots\n",
    "    else:\n",
    "        return \" \".join(name_parts[1:])  # Récupère tout après le premier mot\n",
    "\n",
    "data['Model'] = data['Name'].apply(extract_model)"
   ]
  },
  {
   "cell_type": "code",
   "execution_count": 14,
   "id": "26feb98b",
   "metadata": {},
   "outputs": [],
   "source": [
    "data.drop(\"Name\" ,axis=1 ,inplace =True)"
   ]
  },
  {
   "cell_type": "code",
   "execution_count": 15,
   "id": "80fe971f",
   "metadata": {},
   "outputs": [
    {
     "data": {
      "text/html": [
       "<div>\n",
       "<style scoped>\n",
       "    .dataframe tbody tr th:only-of-type {\n",
       "        vertical-align: middle;\n",
       "    }\n",
       "\n",
       "    .dataframe tbody tr th {\n",
       "        vertical-align: top;\n",
       "    }\n",
       "\n",
       "    .dataframe thead th {\n",
       "        text-align: right;\n",
       "    }\n",
       "</style>\n",
       "<table border=\"1\" class=\"dataframe\">\n",
       "  <thead>\n",
       "    <tr style=\"text-align: right;\">\n",
       "      <th></th>\n",
       "      <th>Location</th>\n",
       "      <th>Year</th>\n",
       "      <th>Kilometers_Driven</th>\n",
       "      <th>Fuel_Type</th>\n",
       "      <th>Transmission</th>\n",
       "      <th>Owner_Type</th>\n",
       "      <th>Mileage</th>\n",
       "      <th>Engine</th>\n",
       "      <th>Power</th>\n",
       "      <th>Seats</th>\n",
       "      <th>Price</th>\n",
       "      <th>Marque</th>\n",
       "      <th>Model</th>\n",
       "    </tr>\n",
       "  </thead>\n",
       "  <tbody>\n",
       "    <tr>\n",
       "      <th>915</th>\n",
       "      <td>Pune</td>\n",
       "      <td>2008</td>\n",
       "      <td>103000</td>\n",
       "      <td>Diesel</td>\n",
       "      <td>Automatic</td>\n",
       "      <td>Second</td>\n",
       "      <td>0.0 kmpl</td>\n",
       "      <td>799 CC</td>\n",
       "      <td>null bhp</td>\n",
       "      <td>2.0</td>\n",
       "      <td>3.0</td>\n",
       "      <td>smart</td>\n",
       "      <td>fortwo cdi at</td>\n",
       "    </tr>\n",
       "  </tbody>\n",
       "</table>\n",
       "</div>"
      ],
      "text/plain": [
       "    Location  Year  Kilometers_Driven Fuel_Type Transmission Owner_Type  \\\n",
       "915     Pune  2008             103000    Diesel    Automatic     Second   \n",
       "\n",
       "      Mileage  Engine     Power  Seats  Price Marque          Model  \n",
       "915  0.0 kmpl  799 CC  null bhp    2.0    3.0  smart  fortwo cdi at  "
      ]
     },
     "execution_count": 15,
     "metadata": {},
     "output_type": "execute_result"
    }
   ],
   "source": [
    "data[data['Marque'] == 'smart']"
   ]
  },
  {
   "cell_type": "code",
   "execution_count": 16,
   "id": "6e81e6c7",
   "metadata": {},
   "outputs": [
    {
     "data": {
      "text/html": [
       "<div>\n",
       "<style scoped>\n",
       "    .dataframe tbody tr th:only-of-type {\n",
       "        vertical-align: middle;\n",
       "    }\n",
       "\n",
       "    .dataframe tbody tr th {\n",
       "        vertical-align: top;\n",
       "    }\n",
       "\n",
       "    .dataframe thead th {\n",
       "        text-align: right;\n",
       "    }\n",
       "</style>\n",
       "<table border=\"1\" class=\"dataframe\">\n",
       "  <thead>\n",
       "    <tr style=\"text-align: right;\">\n",
       "      <th></th>\n",
       "      <th>Marque</th>\n",
       "      <th>Model</th>\n",
       "    </tr>\n",
       "  </thead>\n",
       "  <tbody>\n",
       "    <tr>\n",
       "      <th>0</th>\n",
       "      <td>maruti</td>\n",
       "      <td>wagon r lxi cng</td>\n",
       "    </tr>\n",
       "    <tr>\n",
       "      <th>1</th>\n",
       "      <td>hyundai</td>\n",
       "      <td>creta 1.6 crdi sx option</td>\n",
       "    </tr>\n",
       "    <tr>\n",
       "      <th>2</th>\n",
       "      <td>honda</td>\n",
       "      <td>jazz v</td>\n",
       "    </tr>\n",
       "    <tr>\n",
       "      <th>3</th>\n",
       "      <td>maruti</td>\n",
       "      <td>ertiga vdi</td>\n",
       "    </tr>\n",
       "    <tr>\n",
       "      <th>4</th>\n",
       "      <td>audi</td>\n",
       "      <td>a4 new 2.0 tdi multitronic</td>\n",
       "    </tr>\n",
       "  </tbody>\n",
       "</table>\n",
       "</div>"
      ],
      "text/plain": [
       "    Marque                       Model\n",
       "0   maruti             wagon r lxi cng\n",
       "1  hyundai    creta 1.6 crdi sx option\n",
       "2    honda                      jazz v\n",
       "3   maruti                  ertiga vdi\n",
       "4     audi  a4 new 2.0 tdi multitronic"
      ]
     },
     "execution_count": 16,
     "metadata": {},
     "output_type": "execute_result"
    }
   ],
   "source": [
    "data[['Marque', 'Model']].head()"
   ]
  },
  {
   "cell_type": "code",
   "execution_count": 17,
   "id": "e211f83e",
   "metadata": {},
   "outputs": [
    {
     "data": {
      "text/plain": [
       "Engine\n",
       "False    5983\n",
       "Name: count, dtype: int64"
      ]
     },
     "execution_count": 17,
     "metadata": {},
     "output_type": "execute_result"
    }
   ],
   "source": [
    "data['Engine'].isna().value_counts()"
   ]
  },
  {
   "cell_type": "code",
   "execution_count": 18,
   "id": "0a0cba30",
   "metadata": {},
   "outputs": [],
   "source": [
    "# Fonction pour extraire les valeurs numériques\n",
    "def extract_numeric(value):\n",
    "    if isinstance(value, str):\n",
    "        value = ''.join([c for c in value if c.isdigit() or c == '.'])\n",
    "        return float(value) if value else None\n",
    "    return value"
   ]
  },
  {
   "cell_type": "code",
   "execution_count": 19,
   "id": "5a1839d7",
   "metadata": {},
   "outputs": [],
   "source": [
    "# Appliquer la conversion\n",
    "data[\"Mileage\"] = data[\"Mileage\"].apply(extract_numeric)\n",
    "data[\"Engine\"] = data[\"Engine\"].apply(extract_numeric)\n",
    "data[\"Power\"] = data[\"Power\"].apply(extract_numeric)"
   ]
  },
  {
   "cell_type": "code",
   "execution_count": 20,
   "id": "4b8968e3",
   "metadata": {},
   "outputs": [
    {
     "data": {
      "text/plain": [
       "Location               0\n",
       "Year                   0\n",
       "Kilometers_Driven      0\n",
       "Fuel_Type              0\n",
       "Transmission           0\n",
       "Owner_Type             0\n",
       "Mileage                2\n",
       "Engine                 0\n",
       "Power                107\n",
       "Seats                  6\n",
       "Price                  0\n",
       "Marque                 0\n",
       "Model                  0\n",
       "dtype: int64"
      ]
     },
     "execution_count": 20,
     "metadata": {},
     "output_type": "execute_result"
    }
   ],
   "source": [
    "data.isna().sum()"
   ]
  },
  {
   "cell_type": "code",
   "execution_count": 21,
   "id": "b151b8b8",
   "metadata": {},
   "outputs": [
    {
     "data": {
      "text/plain": [
       "Marque\n",
       "ambassador        35.500000\n",
       "datsun            59.716923\n",
       "maruti            74.245617\n",
       "tata              79.595956\n",
       "fiat              87.155652\n",
       "renault           87.325172\n",
       "nissan            88.371461\n",
       "chevrolet         90.604583\n",
       "hyundai           92.229726\n",
       "volkswagen        94.671592\n",
       "ford              96.755593\n",
       "honda            108.541131\n",
       "mahindra         121.285502\n",
       "skoda            126.737442\n",
       "toyota           128.921063\n",
       "force            139.030000\n",
       "mitsubishi       140.134815\n",
       "mini             147.438462\n",
       "isuzu            147.523333\n",
       "jeep             169.333333\n",
       "volvo            187.380952\n",
       "land-rover       189.602105\n",
       "audi             192.106043\n",
       "mercedes-benz    193.579873\n",
       "bmw              209.819847\n",
       "jaguar           239.075250\n",
       "porsche          331.287500\n",
       "bentley          552.000000\n",
       "lamborghini      560.000000\n",
       "smart                   NaN\n",
       "Name: Power, dtype: float64"
      ]
     },
     "execution_count": 21,
     "metadata": {},
     "output_type": "execute_result"
    }
   ],
   "source": [
    "data.groupby('Marque')['Power'].mean().sort_values()"
   ]
  },
  {
   "cell_type": "code",
   "execution_count": 22,
   "id": "4fed09e2",
   "metadata": {},
   "outputs": [
    {
     "data": {
      "text/plain": [
       "Marque\n",
       "smart             799.0\n",
       "datsun            799.0\n",
       "maruti           1197.0\n",
       "hyundai          1197.0\n",
       "chevrolet        1199.0\n",
       "tata             1248.0\n",
       "fiat             1248.0\n",
       "nissan           1461.0\n",
       "renault          1461.0\n",
       "ambassador       1489.0\n",
       "honda            1497.0\n",
       "volkswagen       1498.0\n",
       "ford             1498.0\n",
       "mini             1798.0\n",
       "skoda            1798.0\n",
       "jeep             1956.0\n",
       "audi             1968.0\n",
       "volvo            1985.0\n",
       "bmw              1995.0\n",
       "mercedes-benz    2143.0\n",
       "land-rover       2179.0\n",
       "jaguar           2179.0\n",
       "mahindra         2179.0\n",
       "force            2200.0\n",
       "mitsubishi       2477.0\n",
       "toyota           2494.0\n",
       "isuzu            2499.0\n",
       "porsche          2967.0\n",
       "lamborghini      5204.0\n",
       "bentley          5998.0\n",
       "Name: Engine, dtype: float64"
      ]
     },
     "execution_count": 22,
     "metadata": {},
     "output_type": "execute_result"
    }
   ],
   "source": [
    "data.groupby('Marque')['Engine'].median().sort_values()"
   ]
  },
  {
   "cell_type": "code",
   "execution_count": 23,
   "id": "8d877616",
   "metadata": {},
   "outputs": [],
   "source": [
    "data['Seats'] = data['Seats'].fillna(data['Seats'].median())"
   ]
  },
  {
   "cell_type": "code",
   "execution_count": 24,
   "id": "e86521e4",
   "metadata": {
    "tags": []
   },
   "outputs": [
    {
     "data": {
      "text/html": [
       "<div>\n",
       "<style scoped>\n",
       "    .dataframe tbody tr th:only-of-type {\n",
       "        vertical-align: middle;\n",
       "    }\n",
       "\n",
       "    .dataframe tbody tr th {\n",
       "        vertical-align: top;\n",
       "    }\n",
       "\n",
       "    .dataframe thead th {\n",
       "        text-align: right;\n",
       "    }\n",
       "</style>\n",
       "<table border=\"1\" class=\"dataframe\">\n",
       "  <thead>\n",
       "    <tr style=\"text-align: right;\">\n",
       "      <th></th>\n",
       "      <th>Location</th>\n",
       "      <th>Year</th>\n",
       "      <th>Kilometers_Driven</th>\n",
       "      <th>Fuel_Type</th>\n",
       "      <th>Transmission</th>\n",
       "      <th>Owner_Type</th>\n",
       "      <th>Mileage</th>\n",
       "      <th>Engine</th>\n",
       "      <th>Power</th>\n",
       "      <th>Seats</th>\n",
       "      <th>Price</th>\n",
       "      <th>Marque</th>\n",
       "      <th>Model</th>\n",
       "    </tr>\n",
       "  </thead>\n",
       "  <tbody>\n",
       "    <tr>\n",
       "      <th>4115</th>\n",
       "      <td>Kochi</td>\n",
       "      <td>2011</td>\n",
       "      <td>79940</td>\n",
       "      <td>Petrol</td>\n",
       "      <td>Manual</td>\n",
       "      <td>First</td>\n",
       "      <td>15.5</td>\n",
       "      <td>1586.0</td>\n",
       "      <td>103.3</td>\n",
       "      <td>5.0</td>\n",
       "      <td>2.78</td>\n",
       "      <td>maruti</td>\n",
       "      <td>sx4 zxi mt bsiv</td>\n",
       "    </tr>\n",
       "  </tbody>\n",
       "</table>\n",
       "</div>"
      ],
      "text/plain": [
       "     Location  Year  Kilometers_Driven Fuel_Type Transmission Owner_Type  \\\n",
       "4115    Kochi  2011              79940    Petrol       Manual      First   \n",
       "\n",
       "      Mileage  Engine  Power  Seats  Price  Marque            Model  \n",
       "4115     15.5  1586.0  103.3    5.0   2.78  maruti  sx4 zxi mt bsiv  "
      ]
     },
     "execution_count": 24,
     "metadata": {},
     "output_type": "execute_result"
    }
   ],
   "source": [
    "data.sample()"
   ]
  },
  {
   "cell_type": "markdown",
   "id": "3060d342",
   "metadata": {},
   "source": [
    "Valeur de `Mileage`"
   ]
  },
  {
   "cell_type": "code",
   "execution_count": 25,
   "id": "8d613201",
   "metadata": {},
   "outputs": [
    {
     "data": {
      "text/plain": [
       "915      0.00\n",
       "3516     0.00\n",
       "962      0.00\n",
       "79       0.00\n",
       "3093     0.00\n",
       "        ...  \n",
       "2059    33.54\n",
       "3129    33.54\n",
       "2371    33.54\n",
       "4446      NaN\n",
       "4904      NaN\n",
       "Name: Mileage, Length: 5983, dtype: float64"
      ]
     },
     "execution_count": 25,
     "metadata": {},
     "output_type": "execute_result"
    }
   ],
   "source": [
    "data['Mileage'].sort_values()"
   ]
  },
  {
   "cell_type": "markdown",
   "id": "8ba47494",
   "metadata": {},
   "source": [
    "> note\n",
    "\n",
    "     Il y a des valeurs manquantes "
   ]
  },
  {
   "cell_type": "code",
   "execution_count": 26,
   "id": "df366d58",
   "metadata": {
    "tags": []
   },
   "outputs": [],
   "source": [
    "data['Mileage'].isna().sum()\n",
    "data.drop(data[data['Mileage'].isna()].index, inplace =True)"
   ]
  },
  {
   "cell_type": "code",
   "execution_count": 27,
   "id": "0fb6b87a",
   "metadata": {},
   "outputs": [
    {
     "data": {
      "text/plain": [
       "Marque\n",
       "smart             0.000\n",
       "lamborghini       6.400\n",
       "bentley           8.600\n",
       "isuzu            12.400\n",
       "land-rover       12.650\n",
       "ambassador       12.800\n",
       "toyota           12.990\n",
       "mitsubishi       13.170\n",
       "volvo            13.500\n",
       "mercedes-benz    14.210\n",
       "porsche          14.375\n",
       "jaguar           14.740\n",
       "mahindra         15.100\n",
       "audi             15.730\n",
       "force            17.000\n",
       "bmw              17.050\n",
       "jeep             17.100\n",
       "skoda            17.200\n",
       "volkswagen       17.210\n",
       "honda            17.800\n",
       "mini             18.150\n",
       "chevrolet        18.200\n",
       "ford             18.880\n",
       "hyundai          18.900\n",
       "fiat             19.000\n",
       "nissan           19.340\n",
       "renault          19.870\n",
       "tata             20.300\n",
       "maruti           21.400\n",
       "datsun           22.700\n",
       "Name: Mileage, dtype: float64"
      ]
     },
     "execution_count": 27,
     "metadata": {},
     "output_type": "execute_result"
    }
   ],
   "source": [
    "data.groupby('Marque')['Mileage'].median().sort_values()"
   ]
  },
  {
   "cell_type": "code",
   "execution_count": 28,
   "id": "41b6b654",
   "metadata": {},
   "outputs": [],
   "source": [
    "median_mileage = data['Mileage'].median()\n",
    "data.loc[data['Mileage'] == 0, 'Mileage'] = median_mileage"
   ]
  },
  {
   "cell_type": "code",
   "execution_count": 29,
   "id": "ab041aa0",
   "metadata": {},
   "outputs": [
    {
     "data": {
      "text/plain": [
       "5781     6.40\n",
       "5603     7.50\n",
       "152      7.81\n",
       "4821     7.94\n",
       "4627     7.94\n",
       "        ...  \n",
       "4141    33.54\n",
       "1332    33.54\n",
       "2059    33.54\n",
       "3129    33.54\n",
       "2371    33.54\n",
       "Name: Mileage, Length: 5981, dtype: float64"
      ]
     },
     "execution_count": 29,
     "metadata": {},
     "output_type": "execute_result"
    }
   ],
   "source": [
    "data['Mileage'].sort_values()"
   ]
  },
  {
   "cell_type": "markdown",
   "id": "d18b1691",
   "metadata": {
    "tags": []
   },
   "source": [
    "> Rappel\n",
    "\n",
    "      Power a des valeurs manquantes "
   ]
  },
  {
   "cell_type": "code",
   "execution_count": 30,
   "id": "c2fe2f42",
   "metadata": {},
   "outputs": [
    {
     "data": {
      "text/html": [
       "<div>\n",
       "<style scoped>\n",
       "    .dataframe tbody tr th:only-of-type {\n",
       "        vertical-align: middle;\n",
       "    }\n",
       "\n",
       "    .dataframe tbody tr th {\n",
       "        vertical-align: top;\n",
       "    }\n",
       "\n",
       "    .dataframe thead th {\n",
       "        text-align: right;\n",
       "    }\n",
       "</style>\n",
       "<table border=\"1\" class=\"dataframe\">\n",
       "  <thead>\n",
       "    <tr style=\"text-align: right;\">\n",
       "      <th></th>\n",
       "      <th>Location</th>\n",
       "      <th>Year</th>\n",
       "      <th>Kilometers_Driven</th>\n",
       "      <th>Fuel_Type</th>\n",
       "      <th>Transmission</th>\n",
       "      <th>Owner_Type</th>\n",
       "      <th>Mileage</th>\n",
       "      <th>Engine</th>\n",
       "      <th>Power</th>\n",
       "      <th>Seats</th>\n",
       "      <th>Price</th>\n",
       "      <th>Marque</th>\n",
       "      <th>Model</th>\n",
       "    </tr>\n",
       "  </thead>\n",
       "  <tbody>\n",
       "    <tr>\n",
       "      <th>76</th>\n",
       "      <td>Jaipur</td>\n",
       "      <td>2008</td>\n",
       "      <td>111111</td>\n",
       "      <td>Diesel</td>\n",
       "      <td>Manual</td>\n",
       "      <td>First</td>\n",
       "      <td>17.80</td>\n",
       "      <td>1399.0</td>\n",
       "      <td>NaN</td>\n",
       "      <td>5.0</td>\n",
       "      <td>2.00</td>\n",
       "      <td>ford</td>\n",
       "      <td>fiesta 1.4 sxi tdci</td>\n",
       "    </tr>\n",
       "    <tr>\n",
       "      <th>79</th>\n",
       "      <td>Hyderabad</td>\n",
       "      <td>2005</td>\n",
       "      <td>87591</td>\n",
       "      <td>Petrol</td>\n",
       "      <td>Manual</td>\n",
       "      <td>First</td>\n",
       "      <td>18.16</td>\n",
       "      <td>1086.0</td>\n",
       "      <td>NaN</td>\n",
       "      <td>5.0</td>\n",
       "      <td>1.30</td>\n",
       "      <td>hyundai</td>\n",
       "      <td>santro xing xl</td>\n",
       "    </tr>\n",
       "    <tr>\n",
       "      <th>89</th>\n",
       "      <td>Hyderabad</td>\n",
       "      <td>2007</td>\n",
       "      <td>73745</td>\n",
       "      <td>Petrol</td>\n",
       "      <td>Manual</td>\n",
       "      <td>First</td>\n",
       "      <td>17.00</td>\n",
       "      <td>1086.0</td>\n",
       "      <td>NaN</td>\n",
       "      <td>5.0</td>\n",
       "      <td>2.10</td>\n",
       "      <td>hyundai</td>\n",
       "      <td>santro xing xo</td>\n",
       "    </tr>\n",
       "    <tr>\n",
       "      <th>120</th>\n",
       "      <td>Mumbai</td>\n",
       "      <td>2005</td>\n",
       "      <td>102000</td>\n",
       "      <td>Petrol</td>\n",
       "      <td>Manual</td>\n",
       "      <td>Second</td>\n",
       "      <td>17.00</td>\n",
       "      <td>1086.0</td>\n",
       "      <td>NaN</td>\n",
       "      <td>5.0</td>\n",
       "      <td>0.85</td>\n",
       "      <td>hyundai</td>\n",
       "      <td>santro xing xl erlx euro iii</td>\n",
       "    </tr>\n",
       "    <tr>\n",
       "      <th>143</th>\n",
       "      <td>Kochi</td>\n",
       "      <td>2008</td>\n",
       "      <td>80759</td>\n",
       "      <td>Petrol</td>\n",
       "      <td>Manual</td>\n",
       "      <td>Third</td>\n",
       "      <td>17.00</td>\n",
       "      <td>1086.0</td>\n",
       "      <td>NaN</td>\n",
       "      <td>5.0</td>\n",
       "      <td>1.67</td>\n",
       "      <td>hyundai</td>\n",
       "      <td>santro xing xo erlx euro ii</td>\n",
       "    </tr>\n",
       "    <tr>\n",
       "      <th>...</th>\n",
       "      <td>...</td>\n",
       "      <td>...</td>\n",
       "      <td>...</td>\n",
       "      <td>...</td>\n",
       "      <td>...</td>\n",
       "      <td>...</td>\n",
       "      <td>...</td>\n",
       "      <td>...</td>\n",
       "      <td>...</td>\n",
       "      <td>...</td>\n",
       "      <td>...</td>\n",
       "      <td>...</td>\n",
       "      <td>...</td>\n",
       "    </tr>\n",
       "    <tr>\n",
       "      <th>5873</th>\n",
       "      <td>Pune</td>\n",
       "      <td>2006</td>\n",
       "      <td>47200</td>\n",
       "      <td>Petrol</td>\n",
       "      <td>Manual</td>\n",
       "      <td>Second</td>\n",
       "      <td>17.00</td>\n",
       "      <td>1086.0</td>\n",
       "      <td>NaN</td>\n",
       "      <td>5.0</td>\n",
       "      <td>1.20</td>\n",
       "      <td>hyundai</td>\n",
       "      <td>santro xing xo erlx euro ii</td>\n",
       "    </tr>\n",
       "    <tr>\n",
       "      <th>5893</th>\n",
       "      <td>Chennai</td>\n",
       "      <td>2008</td>\n",
       "      <td>51000</td>\n",
       "      <td>Petrol</td>\n",
       "      <td>Manual</td>\n",
       "      <td>Second</td>\n",
       "      <td>19.50</td>\n",
       "      <td>1061.0</td>\n",
       "      <td>NaN</td>\n",
       "      <td>5.0</td>\n",
       "      <td>1.75</td>\n",
       "      <td>maruti</td>\n",
       "      <td>estilo lxi</td>\n",
       "    </tr>\n",
       "    <tr>\n",
       "      <th>5925</th>\n",
       "      <td>Pune</td>\n",
       "      <td>2010</td>\n",
       "      <td>85000</td>\n",
       "      <td>Petrol</td>\n",
       "      <td>Manual</td>\n",
       "      <td>First</td>\n",
       "      <td>17.50</td>\n",
       "      <td>1798.0</td>\n",
       "      <td>NaN</td>\n",
       "      <td>5.0</td>\n",
       "      <td>2.85</td>\n",
       "      <td>skoda</td>\n",
       "      <td>laura classic 1.8 tsi</td>\n",
       "    </tr>\n",
       "    <tr>\n",
       "      <th>5943</th>\n",
       "      <td>Chennai</td>\n",
       "      <td>2002</td>\n",
       "      <td>75000</td>\n",
       "      <td>Diesel</td>\n",
       "      <td>Manual</td>\n",
       "      <td>First</td>\n",
       "      <td>18.16</td>\n",
       "      <td>2112.0</td>\n",
       "      <td>NaN</td>\n",
       "      <td>6.0</td>\n",
       "      <td>1.70</td>\n",
       "      <td>mahindra</td>\n",
       "      <td>jeep mm 540 dp</td>\n",
       "    </tr>\n",
       "    <tr>\n",
       "      <th>5985</th>\n",
       "      <td>Delhi</td>\n",
       "      <td>2013</td>\n",
       "      <td>70000</td>\n",
       "      <td>Diesel</td>\n",
       "      <td>Manual</td>\n",
       "      <td>First</td>\n",
       "      <td>23.59</td>\n",
       "      <td>1364.0</td>\n",
       "      <td>NaN</td>\n",
       "      <td>5.0</td>\n",
       "      <td>3.88</td>\n",
       "      <td>toyota</td>\n",
       "      <td>etios gd</td>\n",
       "    </tr>\n",
       "  </tbody>\n",
       "</table>\n",
       "<p>107 rows × 13 columns</p>\n",
       "</div>"
      ],
      "text/plain": [
       "       Location  Year  Kilometers_Driven Fuel_Type Transmission Owner_Type  \\\n",
       "76       Jaipur  2008             111111    Diesel       Manual      First   \n",
       "79    Hyderabad  2005              87591    Petrol       Manual      First   \n",
       "89    Hyderabad  2007              73745    Petrol       Manual      First   \n",
       "120      Mumbai  2005             102000    Petrol       Manual     Second   \n",
       "143       Kochi  2008              80759    Petrol       Manual      Third   \n",
       "...         ...   ...                ...       ...          ...        ...   \n",
       "5873       Pune  2006              47200    Petrol       Manual     Second   \n",
       "5893    Chennai  2008              51000    Petrol       Manual     Second   \n",
       "5925       Pune  2010              85000    Petrol       Manual      First   \n",
       "5943    Chennai  2002              75000    Diesel       Manual      First   \n",
       "5985      Delhi  2013              70000    Diesel       Manual      First   \n",
       "\n",
       "      Mileage  Engine  Power  Seats  Price    Marque  \\\n",
       "76      17.80  1399.0    NaN    5.0   2.00      ford   \n",
       "79      18.16  1086.0    NaN    5.0   1.30   hyundai   \n",
       "89      17.00  1086.0    NaN    5.0   2.10   hyundai   \n",
       "120     17.00  1086.0    NaN    5.0   0.85   hyundai   \n",
       "143     17.00  1086.0    NaN    5.0   1.67   hyundai   \n",
       "...       ...     ...    ...    ...    ...       ...   \n",
       "5873    17.00  1086.0    NaN    5.0   1.20   hyundai   \n",
       "5893    19.50  1061.0    NaN    5.0   1.75    maruti   \n",
       "5925    17.50  1798.0    NaN    5.0   2.85     skoda   \n",
       "5943    18.16  2112.0    NaN    6.0   1.70  mahindra   \n",
       "5985    23.59  1364.0    NaN    5.0   3.88    toyota   \n",
       "\n",
       "                             Model  \n",
       "76             fiesta 1.4 sxi tdci  \n",
       "79                  santro xing xl  \n",
       "89                  santro xing xo  \n",
       "120   santro xing xl erlx euro iii  \n",
       "143    santro xing xo erlx euro ii  \n",
       "...                            ...  \n",
       "5873   santro xing xo erlx euro ii  \n",
       "5893                    estilo lxi  \n",
       "5925         laura classic 1.8 tsi  \n",
       "5943                jeep mm 540 dp  \n",
       "5985                      etios gd  \n",
       "\n",
       "[107 rows x 13 columns]"
      ]
     },
     "execution_count": 30,
     "metadata": {},
     "output_type": "execute_result"
    }
   ],
   "source": [
    "data[data['Power'].isna()]\n"
   ]
  },
  {
   "cell_type": "code",
   "execution_count": 31,
   "id": "6f225cec",
   "metadata": {},
   "outputs": [
    {
     "name": "stdout",
     "output_type": "stream",
     "text": [
      "Nombre de valeurs manquantes dans power : 107\n"
     ]
    }
   ],
   "source": [
    "missing_count = data['Power'].isna().sum()\n",
    "print(f\"Nombre de valeurs manquantes dans power : {missing_count}\")"
   ]
  },
  {
   "cell_type": "code",
   "execution_count": 32,
   "id": "b242d02f",
   "metadata": {
    "tags": []
   },
   "outputs": [],
   "source": [
    "data = data.dropna(subset=['Power'])"
   ]
  },
  {
   "cell_type": "code",
   "execution_count": 33,
   "id": "2aa7d1fa",
   "metadata": {
    "tags": []
   },
   "outputs": [
    {
     "data": {
      "text/plain": [
       "Location             0\n",
       "Year                 0\n",
       "Kilometers_Driven    0\n",
       "Fuel_Type            0\n",
       "Transmission         0\n",
       "Owner_Type           0\n",
       "Mileage              0\n",
       "Engine               0\n",
       "Power                0\n",
       "Seats                0\n",
       "Price                0\n",
       "Marque               0\n",
       "Model                0\n",
       "dtype: int64"
      ]
     },
     "execution_count": 33,
     "metadata": {},
     "output_type": "execute_result"
    }
   ],
   "source": [
    "data.isna().sum()"
   ]
  },
  {
   "cell_type": "markdown",
   "id": "53bb3ee9",
   "metadata": {},
   "source": [
    "Conversion prix en euro"
   ]
  },
  {
   "cell_type": "code",
   "execution_count": 34,
   "id": "f3a1be6a",
   "metadata": {},
   "outputs": [],
   "source": [
    "inr_to_eur = 0.011  # Taux de conversion INR -> EUR (à vérifier pour un taux actualisé)\n",
    "# Conversion de la colonne \"Price\" (en Lakhs INR) en Euros\n",
    "data['Price'] = data['Price'] * 100_000 * inr_to_eur"
   ]
  },
  {
   "cell_type": "code",
   "execution_count": 35,
   "id": "c1407d42",
   "metadata": {
    "tags": []
   },
   "outputs": [
    {
     "data": {
      "text/html": [
       "<div>\n",
       "<style scoped>\n",
       "    .dataframe tbody tr th:only-of-type {\n",
       "        vertical-align: middle;\n",
       "    }\n",
       "\n",
       "    .dataframe tbody tr th {\n",
       "        vertical-align: top;\n",
       "    }\n",
       "\n",
       "    .dataframe thead th {\n",
       "        text-align: right;\n",
       "    }\n",
       "</style>\n",
       "<table border=\"1\" class=\"dataframe\">\n",
       "  <thead>\n",
       "    <tr style=\"text-align: right;\">\n",
       "      <th></th>\n",
       "      <th>Location</th>\n",
       "      <th>Year</th>\n",
       "      <th>Kilometers_Driven</th>\n",
       "      <th>Fuel_Type</th>\n",
       "      <th>Transmission</th>\n",
       "      <th>Owner_Type</th>\n",
       "      <th>Mileage</th>\n",
       "      <th>Engine</th>\n",
       "      <th>Power</th>\n",
       "      <th>Seats</th>\n",
       "      <th>Price</th>\n",
       "      <th>Marque</th>\n",
       "      <th>Model</th>\n",
       "    </tr>\n",
       "  </thead>\n",
       "  <tbody>\n",
       "    <tr>\n",
       "      <th>0</th>\n",
       "      <td>Mumbai</td>\n",
       "      <td>2010</td>\n",
       "      <td>72000</td>\n",
       "      <td>CNG</td>\n",
       "      <td>Manual</td>\n",
       "      <td>First</td>\n",
       "      <td>26.60</td>\n",
       "      <td>998.0</td>\n",
       "      <td>58.16</td>\n",
       "      <td>5.0</td>\n",
       "      <td>1925.0</td>\n",
       "      <td>maruti</td>\n",
       "      <td>wagon r lxi cng</td>\n",
       "    </tr>\n",
       "    <tr>\n",
       "      <th>1</th>\n",
       "      <td>Pune</td>\n",
       "      <td>2015</td>\n",
       "      <td>41000</td>\n",
       "      <td>Diesel</td>\n",
       "      <td>Manual</td>\n",
       "      <td>First</td>\n",
       "      <td>19.67</td>\n",
       "      <td>1582.0</td>\n",
       "      <td>126.20</td>\n",
       "      <td>5.0</td>\n",
       "      <td>13750.0</td>\n",
       "      <td>hyundai</td>\n",
       "      <td>creta 1.6 crdi sx option</td>\n",
       "    </tr>\n",
       "    <tr>\n",
       "      <th>2</th>\n",
       "      <td>Chennai</td>\n",
       "      <td>2011</td>\n",
       "      <td>46000</td>\n",
       "      <td>Petrol</td>\n",
       "      <td>Manual</td>\n",
       "      <td>First</td>\n",
       "      <td>18.20</td>\n",
       "      <td>1199.0</td>\n",
       "      <td>88.70</td>\n",
       "      <td>5.0</td>\n",
       "      <td>4950.0</td>\n",
       "      <td>honda</td>\n",
       "      <td>jazz v</td>\n",
       "    </tr>\n",
       "    <tr>\n",
       "      <th>3</th>\n",
       "      <td>Chennai</td>\n",
       "      <td>2012</td>\n",
       "      <td>87000</td>\n",
       "      <td>Diesel</td>\n",
       "      <td>Manual</td>\n",
       "      <td>First</td>\n",
       "      <td>20.77</td>\n",
       "      <td>1248.0</td>\n",
       "      <td>88.76</td>\n",
       "      <td>7.0</td>\n",
       "      <td>6600.0</td>\n",
       "      <td>maruti</td>\n",
       "      <td>ertiga vdi</td>\n",
       "    </tr>\n",
       "    <tr>\n",
       "      <th>4</th>\n",
       "      <td>Coimbatore</td>\n",
       "      <td>2013</td>\n",
       "      <td>40670</td>\n",
       "      <td>Diesel</td>\n",
       "      <td>Automatic</td>\n",
       "      <td>Second</td>\n",
       "      <td>15.20</td>\n",
       "      <td>1968.0</td>\n",
       "      <td>140.80</td>\n",
       "      <td>5.0</td>\n",
       "      <td>19514.0</td>\n",
       "      <td>audi</td>\n",
       "      <td>a4 new 2.0 tdi multitronic</td>\n",
       "    </tr>\n",
       "  </tbody>\n",
       "</table>\n",
       "</div>"
      ],
      "text/plain": [
       "     Location  Year  Kilometers_Driven Fuel_Type Transmission Owner_Type  \\\n",
       "0      Mumbai  2010              72000       CNG       Manual      First   \n",
       "1        Pune  2015              41000    Diesel       Manual      First   \n",
       "2     Chennai  2011              46000    Petrol       Manual      First   \n",
       "3     Chennai  2012              87000    Diesel       Manual      First   \n",
       "4  Coimbatore  2013              40670    Diesel    Automatic     Second   \n",
       "\n",
       "   Mileage  Engine   Power  Seats    Price   Marque  \\\n",
       "0    26.60   998.0   58.16    5.0   1925.0   maruti   \n",
       "1    19.67  1582.0  126.20    5.0  13750.0  hyundai   \n",
       "2    18.20  1199.0   88.70    5.0   4950.0    honda   \n",
       "3    20.77  1248.0   88.76    7.0   6600.0   maruti   \n",
       "4    15.20  1968.0  140.80    5.0  19514.0     audi   \n",
       "\n",
       "                        Model  \n",
       "0             wagon r lxi cng  \n",
       "1    creta 1.6 crdi sx option  \n",
       "2                      jazz v  \n",
       "3                  ertiga vdi  \n",
       "4  a4 new 2.0 tdi multitronic  "
      ]
     },
     "execution_count": 35,
     "metadata": {},
     "output_type": "execute_result"
    }
   ],
   "source": [
    "data.head()"
   ]
  },
  {
   "cell_type": "code",
   "execution_count": 36,
   "id": "48859880",
   "metadata": {
    "tags": []
   },
   "outputs": [
    {
     "name": "stdout",
     "output_type": "stream",
     "text": [
      "<class 'pandas.core.frame.DataFrame'>\n",
      "Index: 5874 entries, 0 to 6018\n",
      "Data columns (total 13 columns):\n",
      " #   Column             Non-Null Count  Dtype  \n",
      "---  ------             --------------  -----  \n",
      " 0   Location           5874 non-null   object \n",
      " 1   Year               5874 non-null   int64  \n",
      " 2   Kilometers_Driven  5874 non-null   int64  \n",
      " 3   Fuel_Type          5874 non-null   object \n",
      " 4   Transmission       5874 non-null   object \n",
      " 5   Owner_Type         5874 non-null   object \n",
      " 6   Mileage            5874 non-null   float64\n",
      " 7   Engine             5874 non-null   float64\n",
      " 8   Power              5874 non-null   float64\n",
      " 9   Seats              5874 non-null   float64\n",
      " 10  Price              5874 non-null   float64\n",
      " 11  Marque             5874 non-null   object \n",
      " 12  Model              5874 non-null   object \n",
      "dtypes: float64(5), int64(2), object(6)\n",
      "memory usage: 642.5+ KB\n"
     ]
    }
   ],
   "source": [
    "data.info()"
   ]
  },
  {
   "cell_type": "code",
   "execution_count": 37,
   "id": "6754099c",
   "metadata": {},
   "outputs": [
    {
     "data": {
      "text/plain": [
       "Index(['Location', 'Year', 'Kilometers_Driven', 'Fuel_Type', 'Transmission',\n",
       "       'Owner_Type', 'Mileage', 'Engine', 'Power', 'Seats', 'Price', 'Marque',\n",
       "       'Model'],\n",
       "      dtype='object')"
      ]
     },
     "execution_count": 37,
     "metadata": {},
     "output_type": "execute_result"
    }
   ],
   "source": [
    "data.columns"
   ]
  },
  {
   "cell_type": "code",
   "execution_count": 38,
   "id": "b5218067",
   "metadata": {},
   "outputs": [],
   "source": [
    "df = data[['Marque', 'Model', 'Location', 'Year', 'Kilometers_Driven', \n",
    "           'Fuel_Type', 'Transmission', 'Owner_Type', 'Mileage', 'Engine', \n",
    "           'Power', 'Seats', 'Price']].copy()"
   ]
  },
  {
   "cell_type": "code",
   "execution_count": 39,
   "id": "084da3f1",
   "metadata": {
    "tags": []
   },
   "outputs": [
    {
     "data": {
      "text/html": [
       "<div>\n",
       "<style scoped>\n",
       "    .dataframe tbody tr th:only-of-type {\n",
       "        vertical-align: middle;\n",
       "    }\n",
       "\n",
       "    .dataframe tbody tr th {\n",
       "        vertical-align: top;\n",
       "    }\n",
       "\n",
       "    .dataframe thead th {\n",
       "        text-align: right;\n",
       "    }\n",
       "</style>\n",
       "<table border=\"1\" class=\"dataframe\">\n",
       "  <thead>\n",
       "    <tr style=\"text-align: right;\">\n",
       "      <th></th>\n",
       "      <th>Marque</th>\n",
       "      <th>Model</th>\n",
       "      <th>Location</th>\n",
       "      <th>Year</th>\n",
       "      <th>Kilometers_Driven</th>\n",
       "      <th>Fuel_Type</th>\n",
       "      <th>Transmission</th>\n",
       "      <th>Owner_Type</th>\n",
       "      <th>Mileage</th>\n",
       "      <th>Engine</th>\n",
       "      <th>Power</th>\n",
       "      <th>Seats</th>\n",
       "      <th>Price</th>\n",
       "    </tr>\n",
       "  </thead>\n",
       "  <tbody>\n",
       "    <tr>\n",
       "      <th>4325</th>\n",
       "      <td>toyota</td>\n",
       "      <td>corolla altis 2008-2013 1.8 vl at</td>\n",
       "      <td>Mumbai</td>\n",
       "      <td>2012</td>\n",
       "      <td>54000</td>\n",
       "      <td>Petrol</td>\n",
       "      <td>Automatic</td>\n",
       "      <td>First</td>\n",
       "      <td>14.53</td>\n",
       "      <td>1794.0</td>\n",
       "      <td>138.10</td>\n",
       "      <td>5.0</td>\n",
       "      <td>8250.0</td>\n",
       "    </tr>\n",
       "    <tr>\n",
       "      <th>3554</th>\n",
       "      <td>hyundai</td>\n",
       "      <td>verna 1.4 cx vtvt</td>\n",
       "      <td>Kolkata</td>\n",
       "      <td>2014</td>\n",
       "      <td>19000</td>\n",
       "      <td>Petrol</td>\n",
       "      <td>Manual</td>\n",
       "      <td>First</td>\n",
       "      <td>17.43</td>\n",
       "      <td>1396.0</td>\n",
       "      <td>105.50</td>\n",
       "      <td>5.0</td>\n",
       "      <td>5775.0</td>\n",
       "    </tr>\n",
       "    <tr>\n",
       "      <th>3774</th>\n",
       "      <td>maruti</td>\n",
       "      <td>ciaz zeta</td>\n",
       "      <td>Kochi</td>\n",
       "      <td>2018</td>\n",
       "      <td>10575</td>\n",
       "      <td>Petrol</td>\n",
       "      <td>Manual</td>\n",
       "      <td>First</td>\n",
       "      <td>21.56</td>\n",
       "      <td>1462.0</td>\n",
       "      <td>103.25</td>\n",
       "      <td>5.0</td>\n",
       "      <td>10098.0</td>\n",
       "    </tr>\n",
       "    <tr>\n",
       "      <th>5856</th>\n",
       "      <td>hyundai</td>\n",
       "      <td>elite i20 petrol asta</td>\n",
       "      <td>Chennai</td>\n",
       "      <td>2016</td>\n",
       "      <td>11000</td>\n",
       "      <td>Petrol</td>\n",
       "      <td>Manual</td>\n",
       "      <td>First</td>\n",
       "      <td>18.60</td>\n",
       "      <td>1197.0</td>\n",
       "      <td>81.86</td>\n",
       "      <td>5.0</td>\n",
       "      <td>8745.0</td>\n",
       "    </tr>\n",
       "    <tr>\n",
       "      <th>3501</th>\n",
       "      <td>toyota</td>\n",
       "      <td>corolla altis 1.8 g</td>\n",
       "      <td>Bangalore</td>\n",
       "      <td>2016</td>\n",
       "      <td>16471</td>\n",
       "      <td>Petrol</td>\n",
       "      <td>Manual</td>\n",
       "      <td>Second</td>\n",
       "      <td>14.28</td>\n",
       "      <td>1798.0</td>\n",
       "      <td>138.03</td>\n",
       "      <td>5.0</td>\n",
       "      <td>12650.0</td>\n",
       "    </tr>\n",
       "    <tr>\n",
       "      <th>1233</th>\n",
       "      <td>mercedes-benz</td>\n",
       "      <td>e-class 2015-2017 e250 cdi avantgarde</td>\n",
       "      <td>Kochi</td>\n",
       "      <td>2017</td>\n",
       "      <td>36884</td>\n",
       "      <td>Diesel</td>\n",
       "      <td>Automatic</td>\n",
       "      <td>First</td>\n",
       "      <td>13.00</td>\n",
       "      <td>2143.0</td>\n",
       "      <td>204.00</td>\n",
       "      <td>5.0</td>\n",
       "      <td>35475.0</td>\n",
       "    </tr>\n",
       "    <tr>\n",
       "      <th>969</th>\n",
       "      <td>skoda</td>\n",
       "      <td>rapid 1.5 tdi at ambition</td>\n",
       "      <td>Ahmedabad</td>\n",
       "      <td>2015</td>\n",
       "      <td>60001</td>\n",
       "      <td>Diesel</td>\n",
       "      <td>Automatic</td>\n",
       "      <td>First</td>\n",
       "      <td>21.66</td>\n",
       "      <td>1498.0</td>\n",
       "      <td>103.52</td>\n",
       "      <td>5.0</td>\n",
       "      <td>7975.0</td>\n",
       "    </tr>\n",
       "    <tr>\n",
       "      <th>1255</th>\n",
       "      <td>maruti</td>\n",
       "      <td>swift zdi</td>\n",
       "      <td>Hyderabad</td>\n",
       "      <td>2016</td>\n",
       "      <td>55746</td>\n",
       "      <td>Diesel</td>\n",
       "      <td>Manual</td>\n",
       "      <td>First</td>\n",
       "      <td>22.90</td>\n",
       "      <td>1248.0</td>\n",
       "      <td>74.00</td>\n",
       "      <td>5.0</td>\n",
       "      <td>7645.0</td>\n",
       "    </tr>\n",
       "    <tr>\n",
       "      <th>3410</th>\n",
       "      <td>land-rover</td>\n",
       "      <td>freelander 2 hse sd4</td>\n",
       "      <td>Ahmedabad</td>\n",
       "      <td>2012</td>\n",
       "      <td>60000</td>\n",
       "      <td>Diesel</td>\n",
       "      <td>Automatic</td>\n",
       "      <td>Second</td>\n",
       "      <td>12.35</td>\n",
       "      <td>2179.0</td>\n",
       "      <td>187.74</td>\n",
       "      <td>5.0</td>\n",
       "      <td>25850.0</td>\n",
       "    </tr>\n",
       "    <tr>\n",
       "      <th>3766</th>\n",
       "      <td>ford</td>\n",
       "      <td>ecosport 1.0 ecoboost platinum edition</td>\n",
       "      <td>Mumbai</td>\n",
       "      <td>2017</td>\n",
       "      <td>15000</td>\n",
       "      <td>Petrol</td>\n",
       "      <td>Manual</td>\n",
       "      <td>First</td>\n",
       "      <td>18.88</td>\n",
       "      <td>999.0</td>\n",
       "      <td>123.24</td>\n",
       "      <td>5.0</td>\n",
       "      <td>8800.0</td>\n",
       "    </tr>\n",
       "  </tbody>\n",
       "</table>\n",
       "</div>"
      ],
      "text/plain": [
       "             Marque                                   Model   Location  Year  \\\n",
       "4325         toyota       corolla altis 2008-2013 1.8 vl at     Mumbai  2012   \n",
       "3554        hyundai                       verna 1.4 cx vtvt    Kolkata  2014   \n",
       "3774         maruti                               ciaz zeta      Kochi  2018   \n",
       "5856        hyundai                   elite i20 petrol asta    Chennai  2016   \n",
       "3501         toyota                     corolla altis 1.8 g  Bangalore  2016   \n",
       "1233  mercedes-benz   e-class 2015-2017 e250 cdi avantgarde      Kochi  2017   \n",
       "969           skoda               rapid 1.5 tdi at ambition  Ahmedabad  2015   \n",
       "1255         maruti                               swift zdi  Hyderabad  2016   \n",
       "3410     land-rover                    freelander 2 hse sd4  Ahmedabad  2012   \n",
       "3766           ford  ecosport 1.0 ecoboost platinum edition     Mumbai  2017   \n",
       "\n",
       "      Kilometers_Driven Fuel_Type Transmission Owner_Type  Mileage  Engine  \\\n",
       "4325              54000    Petrol    Automatic      First    14.53  1794.0   \n",
       "3554              19000    Petrol       Manual      First    17.43  1396.0   \n",
       "3774              10575    Petrol       Manual      First    21.56  1462.0   \n",
       "5856              11000    Petrol       Manual      First    18.60  1197.0   \n",
       "3501              16471    Petrol       Manual     Second    14.28  1798.0   \n",
       "1233              36884    Diesel    Automatic      First    13.00  2143.0   \n",
       "969               60001    Diesel    Automatic      First    21.66  1498.0   \n",
       "1255              55746    Diesel       Manual      First    22.90  1248.0   \n",
       "3410              60000    Diesel    Automatic     Second    12.35  2179.0   \n",
       "3766              15000    Petrol       Manual      First    18.88   999.0   \n",
       "\n",
       "       Power  Seats    Price  \n",
       "4325  138.10    5.0   8250.0  \n",
       "3554  105.50    5.0   5775.0  \n",
       "3774  103.25    5.0  10098.0  \n",
       "5856   81.86    5.0   8745.0  \n",
       "3501  138.03    5.0  12650.0  \n",
       "1233  204.00    5.0  35475.0  \n",
       "969   103.52    5.0   7975.0  \n",
       "1255   74.00    5.0   7645.0  \n",
       "3410  187.74    5.0  25850.0  \n",
       "3766  123.24    5.0   8800.0  "
      ]
     },
     "execution_count": 39,
     "metadata": {},
     "output_type": "execute_result"
    }
   ],
   "source": [
    "df.sample(10 ,random_state =32)"
   ]
  },
  {
   "cell_type": "code",
   "execution_count": null,
   "id": "3dbb5048",
   "metadata": {},
   "outputs": [
    {
     "data": {
      "text/plain": [
       "1788"
      ]
     },
     "execution_count": 48,
     "metadata": {},
     "output_type": "execute_result"
    }
   ],
   "source": [
    "df['Model'].nunique()"
   ]
  },
  {
   "cell_type": "code",
   "execution_count": 40,
   "id": "d6ddb415",
   "metadata": {
    "tags": []
   },
   "outputs": [
    {
     "name": "stdout",
     "output_type": "stream",
     "text": [
      "<class 'pandas.core.frame.DataFrame'>\n",
      "Index: 5874 entries, 0 to 6018\n",
      "Data columns (total 13 columns):\n",
      " #   Column             Non-Null Count  Dtype  \n",
      "---  ------             --------------  -----  \n",
      " 0   Marque             5874 non-null   object \n",
      " 1   Model              5874 non-null   object \n",
      " 2   Location           5874 non-null   object \n",
      " 3   Year               5874 non-null   int64  \n",
      " 4   Kilometers_Driven  5874 non-null   int64  \n",
      " 5   Fuel_Type          5874 non-null   object \n",
      " 6   Transmission       5874 non-null   object \n",
      " 7   Owner_Type         5874 non-null   object \n",
      " 8   Mileage            5874 non-null   float64\n",
      " 9   Engine             5874 non-null   float64\n",
      " 10  Power              5874 non-null   float64\n",
      " 11  Seats              5874 non-null   float64\n",
      " 12  Price              5874 non-null   float64\n",
      "dtypes: float64(5), int64(2), object(6)\n",
      "memory usage: 642.5+ KB\n"
     ]
    }
   ],
   "source": [
    "df.info()"
   ]
  },
  {
   "cell_type": "markdown",
   "id": "01a6711a",
   "metadata": {
    "tags": []
   },
   "source": [
    "# EDA"
   ]
  },
  {
   "cell_type": "markdown",
   "id": "82e0d964",
   "metadata": {},
   "source": [
    "- ###### relation between [ \"Mileage\" ,\"Engine\",\"Power\"] and Price ?\n",
    "- ###### The most expensive car?\n",
    "- ###### Best Selling Cars ?\n",
    "- ###### Average car prices per type ?\n",
    "- ###### What kind of fuel do people prefer?\n",
    "- ###### The average price of cars relative to the location ?\n",
    "- ###### The average price of each car type for each Location ?\n",
    "- ###### correlation between Price and Kilometers_Driven ?\n",
    "- ###### Distribute of Transmission\n",
    "- ###### correlation between Price and Transmission ?\n"
   ]
  },
  {
   "cell_type": "code",
   "execution_count": 41,
   "id": "4f5378c8",
   "metadata": {
    "tags": []
   },
   "outputs": [
    {
     "data": {
      "image/png": "[encoded data removed]",
      "text/plain": [
       "<Figure size 640x480 with 1 Axes>"
      ]
     },
     "metadata": {},
     "output_type": "display_data"
    },
    {
     "data": {
      "image/png": "[encoded data removed]",
      "text/plain": [
       "<Figure size 640x480 with 1 Axes>"
      ]
     },
     "metadata": {},
     "output_type": "display_data"
    },
    {
     "data": {
      "image/png": "[encoded data removed]",
      "text/plain": [
       "<Figure size 640x480 with 1 Axes>"
      ]
     },
     "metadata": {},
     "output_type": "display_data"
    }
   ],
   "source": [
    "colums = [\"Mileage\",\"Engine\",\"Power\"]\n",
    "for col in colums :\n",
    "    plt.title(f\"Price to {col}\")\n",
    "    sns.scatterplot(data = df , x=col ,y=\"Price\")\n",
    "    plt.xlabel(col)\n",
    "    plt.ylabel(\"Price\",fontsize=3)\n",
    "    plt.show()"
   ]
  },
  {
   "cell_type": "code",
   "execution_count": 42,
   "id": "e8b9a08e",
   "metadata": {
    "tags": []
   },
   "outputs": [
    {
     "data": {
      "image/png": "[encoded data removed]",
      "text/plain": [
       "<Figure size 640x480 with 2 Axes>"
      ]
     },
     "metadata": {},
     "output_type": "display_data"
    }
   ],
   "source": [
    "colums.append(\"Price\")\n",
    "first_corr_tabel = df[colums].corr()\n",
    "sns.heatmap(first_corr_tabel,annot=True)\n",
    "plt.show()"
   ]
  },
  {
   "cell_type": "markdown",
   "id": "a18fb31a",
   "metadata": {},
   "source": [
    "### The most expensive car?"
   ]
  },
  {
   "cell_type": "code",
   "execution_count": 43,
   "id": "815143f1",
   "metadata": {
    "tags": []
   },
   "outputs": [
    {
     "data": {
      "text/plain": [
       "'land-rover'"
      ]
     },
     "execution_count": 43,
     "metadata": {},
     "output_type": "execute_result"
    }
   ],
   "source": [
    "df.iloc[df['Price'].argmax()][\"Marque\"]"
   ]
  },
  {
   "cell_type": "markdown",
   "id": "551cbf4d",
   "metadata": {
    "tags": []
   },
   "source": [
    "> most expensive car is Land Rover"
   ]
  },
  {
   "cell_type": "markdown",
   "id": "b4d900d8",
   "metadata": {},
   "source": [
    "#### Best Selling Cars ?"
   ]
  },
  {
   "cell_type": "code",
   "execution_count": 44,
   "id": "4c1f469c",
   "metadata": {
    "tags": []
   },
   "outputs": [
    {
     "data": {
      "image/png": "[encoded data removed]",
      "text/plain": [
       "<Figure size 1000x1000 with 1 Axes>"
      ]
     },
     "metadata": {},
     "output_type": "display_data"
    }
   ],
   "source": [
    "plt.figure(figsize=(10,10))\n",
    "plt.title(\"Distribute of Brands\")\n",
    "\n",
    "sns.countplot(y=df['Marque'])\n",
    "plt.show()\n"
   ]
  },
  {
   "cell_type": "code",
   "execution_count": 45,
   "id": "a7456d24",
   "metadata": {
    "tags": []
   },
   "outputs": [
    {
     "data": {
      "text/html": [
       "<div>\n",
       "<style scoped>\n",
       "    .dataframe tbody tr th:only-of-type {\n",
       "        vertical-align: middle;\n",
       "    }\n",
       "\n",
       "    .dataframe tbody tr th {\n",
       "        vertical-align: top;\n",
       "    }\n",
       "\n",
       "    .dataframe thead th {\n",
       "        text-align: right;\n",
       "    }\n",
       "</style>\n",
       "<table border=\"1\" class=\"dataframe\">\n",
       "  <thead>\n",
       "    <tr style=\"text-align: right;\">\n",
       "      <th></th>\n",
       "      <th>count</th>\n",
       "    </tr>\n",
       "    <tr>\n",
       "      <th>Marque</th>\n",
       "      <th></th>\n",
       "    </tr>\n",
       "  </thead>\n",
       "  <tbody>\n",
       "    <tr>\n",
       "      <th>maruti</th>\n",
       "      <td>1175</td>\n",
       "    </tr>\n",
       "    <tr>\n",
       "      <th>hyundai</th>\n",
       "      <td>1058</td>\n",
       "    </tr>\n",
       "    <tr>\n",
       "      <th>honda</th>\n",
       "      <td>601</td>\n",
       "    </tr>\n",
       "    <tr>\n",
       "      <th>toyota</th>\n",
       "      <td>394</td>\n",
       "    </tr>\n",
       "    <tr>\n",
       "      <th>mercedes-benz</th>\n",
       "      <td>316</td>\n",
       "    </tr>\n",
       "  </tbody>\n",
       "</table>\n",
       "</div>"
      ],
      "text/plain": [
       "               count\n",
       "Marque              \n",
       "maruti          1175\n",
       "hyundai         1058\n",
       "honda            601\n",
       "toyota           394\n",
       "mercedes-benz    316"
      ]
     },
     "execution_count": 45,
     "metadata": {},
     "output_type": "execute_result"
    }
   ],
   "source": [
    "pd.DataFrame(df['Marque'].value_counts()[:5])"
   ]
  },
  {
   "cell_type": "markdown",
   "id": "0c75ffc5",
   "metadata": {
    "tags": []
   },
   "source": [
    "#### Average car prices per type ?"
   ]
  },
  {
   "cell_type": "code",
   "execution_count": 47,
   "id": "615f5f21",
   "metadata": {
    "tags": []
   },
   "outputs": [
    {
     "data": {
      "image/png": "[encoded data removed]",
      "text/plain": [
       "<Figure size 2000x600 with 1 Axes>"
      ]
     },
     "metadata": {},
     "output_type": "display_data"
    }
   ],
   "source": [
    "plt.figure(figsize=(20,6))\n",
    "plt.title(\"Distribute of price of Prands\")\n",
    "figure = sns.barplot(data= df , x =\"Marque\" ,y=\"Price\")\n",
    "for contain in figure.containers :\n",
    "    figure.bar_label(contain)\n",
    "plt.xticks(rotation=45)\n",
    "plt.show()"
   ]
  },
  {
   "cell_type": "code",
   "execution_count": 470,
   "id": "8aca5e94",
   "metadata": {
    "tags": []
   },
   "outputs": [
    {
     "data": {
      "text/html": [
       "<div>\n",
       "<style scoped>\n",
       "    .dataframe tbody tr th:only-of-type {\n",
       "        vertical-align: middle;\n",
       "    }\n",
       "\n",
       "    .dataframe tbody tr th {\n",
       "        vertical-align: top;\n",
       "    }\n",
       "\n",
       "    .dataframe thead th {\n",
       "        text-align: right;\n",
       "    }\n",
       "</style>\n",
       "<table border=\"1\" class=\"dataframe\">\n",
       "  <thead>\n",
       "    <tr style=\"text-align: right;\">\n",
       "      <th></th>\n",
       "      <th>Price</th>\n",
       "    </tr>\n",
       "    <tr>\n",
       "      <th>Marque</th>\n",
       "      <th></th>\n",
       "    </tr>\n",
       "  </thead>\n",
       "  <tbody>\n",
       "    <tr>\n",
       "      <th>lamborghini</th>\n",
       "      <td>132000.00</td>\n",
       "    </tr>\n",
       "    <tr>\n",
       "      <th>bentley</th>\n",
       "      <td>64900.00</td>\n",
       "    </tr>\n",
       "    <tr>\n",
       "      <th>porsche</th>\n",
       "      <td>54124.81</td>\n",
       "    </tr>\n",
       "    <tr>\n",
       "      <th>land-rover</th>\n",
       "      <td>43847.16</td>\n",
       "    </tr>\n",
       "    <tr>\n",
       "      <th>jaguar</th>\n",
       "      <td>41395.48</td>\n",
       "    </tr>\n",
       "    <tr>\n",
       "      <th>mercedes-benz</th>\n",
       "      <td>29609.63</td>\n",
       "    </tr>\n",
       "    <tr>\n",
       "      <th>mini</th>\n",
       "      <td>29586.62</td>\n",
       "    </tr>\n",
       "    <tr>\n",
       "      <th>audi</th>\n",
       "      <td>28126.77</td>\n",
       "    </tr>\n",
       "    <tr>\n",
       "      <th>bmw</th>\n",
       "      <td>27983.58</td>\n",
       "    </tr>\n",
       "    <tr>\n",
       "      <th>volvo</th>\n",
       "      <td>20683.14</td>\n",
       "    </tr>\n",
       "    <tr>\n",
       "      <th>jeep</th>\n",
       "      <td>20590.53</td>\n",
       "    </tr>\n",
       "    <tr>\n",
       "      <th>isuzu</th>\n",
       "      <td>16166.33</td>\n",
       "    </tr>\n",
       "    <tr>\n",
       "      <th>toyota</th>\n",
       "      <td>13098.77</td>\n",
       "    </tr>\n",
       "    <tr>\n",
       "      <th>mitsubishi</th>\n",
       "      <td>12164.78</td>\n",
       "    </tr>\n",
       "    <tr>\n",
       "      <th>force</th>\n",
       "      <td>10266.67</td>\n",
       "    </tr>\n",
       "    <tr>\n",
       "      <th>mahindra</th>\n",
       "      <td>8864.85</td>\n",
       "    </tr>\n",
       "    <tr>\n",
       "      <th>skoda</th>\n",
       "      <td>8345.10</td>\n",
       "    </tr>\n",
       "    <tr>\n",
       "      <th>ford</th>\n",
       "      <td>7640.97</td>\n",
       "    </tr>\n",
       "    <tr>\n",
       "      <th>renault</th>\n",
       "      <td>6378.94</td>\n",
       "    </tr>\n",
       "    <tr>\n",
       "      <th>hyundai</th>\n",
       "      <td>6065.09</td>\n",
       "    </tr>\n",
       "    <tr>\n",
       "      <th>honda</th>\n",
       "      <td>5959.77</td>\n",
       "    </tr>\n",
       "    <tr>\n",
       "      <th>volkswagen</th>\n",
       "      <td>5837.50</td>\n",
       "    </tr>\n",
       "    <tr>\n",
       "      <th>nissan</th>\n",
       "      <td>5263.19</td>\n",
       "    </tr>\n",
       "    <tr>\n",
       "      <th>maruti</th>\n",
       "      <td>5010.35</td>\n",
       "    </tr>\n",
       "    <tr>\n",
       "      <th>tata</th>\n",
       "      <td>3966.13</td>\n",
       "    </tr>\n",
       "    <tr>\n",
       "      <th>fiat</th>\n",
       "      <td>3927.48</td>\n",
       "    </tr>\n",
       "    <tr>\n",
       "      <th>chevrolet</th>\n",
       "      <td>3363.07</td>\n",
       "    </tr>\n",
       "    <tr>\n",
       "      <th>datsun</th>\n",
       "      <td>3354.15</td>\n",
       "    </tr>\n",
       "    <tr>\n",
       "      <th>ambassador</th>\n",
       "      <td>1485.00</td>\n",
       "    </tr>\n",
       "  </tbody>\n",
       "</table>\n",
       "</div>"
      ],
      "text/plain": [
       "                   Price\n",
       "Marque                  \n",
       "lamborghini    132000.00\n",
       "bentley         64900.00\n",
       "porsche         54124.81\n",
       "land-rover      43847.16\n",
       "jaguar          41395.48\n",
       "mercedes-benz   29609.63\n",
       "mini            29586.62\n",
       "audi            28126.77\n",
       "bmw             27983.58\n",
       "volvo           20683.14\n",
       "jeep            20590.53\n",
       "isuzu           16166.33\n",
       "toyota          13098.77\n",
       "mitsubishi      12164.78\n",
       "force           10266.67\n",
       "mahindra         8864.85\n",
       "skoda            8345.10\n",
       "ford             7640.97\n",
       "renault          6378.94\n",
       "hyundai          6065.09\n",
       "honda            5959.77\n",
       "volkswagen       5837.50\n",
       "nissan           5263.19\n",
       "maruti           5010.35\n",
       "tata             3966.13\n",
       "fiat             3927.48\n",
       "chevrolet        3363.07\n",
       "datsun           3354.15\n",
       "ambassador       1485.00"
      ]
     },
     "execution_count": 470,
     "metadata": {},
     "output_type": "execute_result"
    }
   ],
   "source": [
    "pd.DataFrame(np.round(df.groupby(\"Marque\")[\"Price\"].mean(),2).sort_values(ascending=False))\n"
   ]
  },
  {
   "cell_type": "markdown",
   "id": "fe90fa76",
   "metadata": {
    "tags": []
   },
   "source": [
    "#### What kind of fuel do people prefer?"
   ]
  },
  {
   "cell_type": "code",
   "execution_count": 471,
   "id": "9cfdbc15",
   "metadata": {
    "tags": []
   },
   "outputs": [
    {
     "data": {
      "image/png": "[encoded data removed]",
      "text/plain": [
       "<Figure size 640x480 with 1 Axes>"
      ]
     },
     "metadata": {},
     "output_type": "display_data"
    }
   ],
   "source": [
    "sns.countplot(data =df , x= \"Fuel_Type\")\n",
    "plt.show()"
   ]
  },
  {
   "cell_type": "code",
   "execution_count": 473,
   "id": "54880f34",
   "metadata": {
    "tags": []
   },
   "outputs": [
    {
     "data": {
      "text/html": [
       "<div>\n",
       "<style scoped>\n",
       "    .dataframe tbody tr th:only-of-type {\n",
       "        vertical-align: middle;\n",
       "    }\n",
       "\n",
       "    .dataframe tbody tr th {\n",
       "        vertical-align: top;\n",
       "    }\n",
       "\n",
       "    .dataframe thead th {\n",
       "        text-align: right;\n",
       "    }\n",
       "</style>\n",
       "<table border=\"1\" class=\"dataframe\">\n",
       "  <thead>\n",
       "    <tr style=\"text-align: right;\">\n",
       "      <th></th>\n",
       "      <th>count</th>\n",
       "    </tr>\n",
       "    <tr>\n",
       "      <th>Fuel_Type</th>\n",
       "      <th></th>\n",
       "    </tr>\n",
       "  </thead>\n",
       "  <tbody>\n",
       "    <tr>\n",
       "      <th>Diesel</th>\n",
       "      <td>3153</td>\n",
       "    </tr>\n",
       "    <tr>\n",
       "      <th>Petrol</th>\n",
       "      <td>2656</td>\n",
       "    </tr>\n",
       "    <tr>\n",
       "      <th>CNG</th>\n",
       "      <td>55</td>\n",
       "    </tr>\n",
       "    <tr>\n",
       "      <th>LPG</th>\n",
       "      <td>10</td>\n",
       "    </tr>\n",
       "  </tbody>\n",
       "</table>\n",
       "</div>"
      ],
      "text/plain": [
       "           count\n",
       "Fuel_Type       \n",
       "Diesel      3153\n",
       "Petrol      2656\n",
       "CNG           55\n",
       "LPG           10"
      ]
     },
     "execution_count": 473,
     "metadata": {},
     "output_type": "execute_result"
    }
   ],
   "source": [
    "pd.DataFrame(df['Fuel_Type'].value_counts())"
   ]
  },
  {
   "cell_type": "markdown",
   "id": "59c2fa7c",
   "metadata": {},
   "source": [
    "- people prefer Diesel and Petrol"
   ]
  },
  {
   "cell_type": "markdown",
   "id": "8818d4f3",
   "metadata": {},
   "source": [
    "#### Type of oldest car ?"
   ]
  },
  {
   "cell_type": "code",
   "execution_count": 477,
   "id": "6eec2559",
   "metadata": {
    "tags": []
   },
   "outputs": [
    {
     "data": {
      "text/plain": [
       "Marque     maruti\n",
       "Model     zen lxi\n",
       "Name: 3138, dtype: object"
      ]
     },
     "execution_count": 477,
     "metadata": {},
     "output_type": "execute_result"
    }
   ],
   "source": [
    "df.loc[df['Year'].idxmin(), ['Marque', 'Model']]"
   ]
  },
  {
   "cell_type": "markdown",
   "id": "0f14759d",
   "metadata": {
    "tags": []
   },
   "source": [
    "- the oldest car is 'Maruti Zen'"
   ]
  },
  {
   "cell_type": "code",
   "execution_count": 479,
   "id": "566a825f",
   "metadata": {
    "tags": []
   },
   "outputs": [
    {
     "data": {
      "text/html": [
       "<div>\n",
       "<style scoped>\n",
       "    .dataframe tbody tr th:only-of-type {\n",
       "        vertical-align: middle;\n",
       "    }\n",
       "\n",
       "    .dataframe tbody tr th {\n",
       "        vertical-align: top;\n",
       "    }\n",
       "\n",
       "    .dataframe thead th {\n",
       "        text-align: right;\n",
       "    }\n",
       "</style>\n",
       "<table border=\"1\" class=\"dataframe\">\n",
       "  <thead>\n",
       "    <tr style=\"text-align: right;\">\n",
       "      <th></th>\n",
       "      <th>Marque</th>\n",
       "      <th>Model</th>\n",
       "      <th>Location</th>\n",
       "      <th>Year</th>\n",
       "      <th>Kilometers_Driven</th>\n",
       "      <th>Fuel_Type</th>\n",
       "      <th>Transmission</th>\n",
       "      <th>Owner_Type</th>\n",
       "      <th>Mileage</th>\n",
       "      <th>Engine</th>\n",
       "      <th>Power</th>\n",
       "      <th>Seats</th>\n",
       "      <th>Price</th>\n",
       "      <th>Type</th>\n",
       "    </tr>\n",
       "  </thead>\n",
       "  <tbody>\n",
       "    <tr>\n",
       "      <th>4032</th>\n",
       "      <td>hyundai</td>\n",
       "      <td>grand i10 crdi magna</td>\n",
       "      <td>Delhi</td>\n",
       "      <td>2014</td>\n",
       "      <td>42000</td>\n",
       "      <td>Diesel</td>\n",
       "      <td>Manual</td>\n",
       "      <td>First</td>\n",
       "      <td>24.0</td>\n",
       "      <td>1120.0</td>\n",
       "      <td>70.0</td>\n",
       "      <td>5.0</td>\n",
       "      <td>3850.0</td>\n",
       "      <td>hyundai</td>\n",
       "    </tr>\n",
       "  </tbody>\n",
       "</table>\n",
       "</div>"
      ],
      "text/plain": [
       "       Marque                 Model Location  Year  Kilometers_Driven  \\\n",
       "4032  hyundai  grand i10 crdi magna    Delhi  2014              42000   \n",
       "\n",
       "     Fuel_Type Transmission Owner_Type  Mileage  Engine  Power  Seats   Price  \\\n",
       "4032    Diesel       Manual      First     24.0  1120.0   70.0    5.0  3850.0   \n",
       "\n",
       "         Type  \n",
       "4032  hyundai  "
      ]
     },
     "execution_count": 479,
     "metadata": {},
     "output_type": "execute_result"
    }
   ],
   "source": [
    "df.sample()"
   ]
  },
  {
   "cell_type": "markdown",
   "id": "2a83ee3b",
   "metadata": {},
   "source": [
    "#### The average price of cars relative to the location ?\n"
   ]
  },
  {
   "cell_type": "code",
   "execution_count": 480,
   "id": "a57fe409",
   "metadata": {
    "tags": []
   },
   "outputs": [
    {
     "data": {
      "image/png": "[encoded data removed]",
      "text/plain": [
       "<Figure size 1500x1000 with 1 Axes>"
      ]
     },
     "metadata": {},
     "output_type": "display_data"
    }
   ],
   "source": [
    "plt.figure(figsize=(15,10))\n",
    "sns.boxplot(data= df ,x= \"Price\",y=\"Location\")\n",
    "plt.show()"
   ]
  },
  {
   "cell_type": "code",
   "execution_count": 481,
   "id": "cd135892",
   "metadata": {
    "tags": []
   },
   "outputs": [
    {
     "data": {
      "text/html": [
       "<div>\n",
       "<style scoped>\n",
       "    .dataframe tbody tr th:only-of-type {\n",
       "        vertical-align: middle;\n",
       "    }\n",
       "\n",
       "    .dataframe tbody tr th {\n",
       "        vertical-align: top;\n",
       "    }\n",
       "\n",
       "    .dataframe thead th {\n",
       "        text-align: right;\n",
       "    }\n",
       "</style>\n",
       "<table border=\"1\" class=\"dataframe\">\n",
       "  <thead>\n",
       "    <tr style=\"text-align: right;\">\n",
       "      <th></th>\n",
       "      <th>Price</th>\n",
       "    </tr>\n",
       "    <tr>\n",
       "      <th>Location</th>\n",
       "      <th></th>\n",
       "    </tr>\n",
       "  </thead>\n",
       "  <tbody>\n",
       "    <tr>\n",
       "      <th>Coimbatore</th>\n",
       "      <td>16654.38</td>\n",
       "    </tr>\n",
       "    <tr>\n",
       "      <th>Bangalore</th>\n",
       "      <td>14970.11</td>\n",
       "    </tr>\n",
       "    <tr>\n",
       "      <th>Kochi</th>\n",
       "      <td>12360.42</td>\n",
       "    </tr>\n",
       "    <tr>\n",
       "      <th>Hyderabad</th>\n",
       "      <td>10901.90</td>\n",
       "    </tr>\n",
       "    <tr>\n",
       "      <th>Delhi</th>\n",
       "      <td>10756.89</td>\n",
       "    </tr>\n",
       "    <tr>\n",
       "      <th>Mumbai</th>\n",
       "      <td>10380.27</td>\n",
       "    </tr>\n",
       "    <tr>\n",
       "      <th>Ahmedabad</th>\n",
       "      <td>9368.65</td>\n",
       "    </tr>\n",
       "    <tr>\n",
       "      <th>Chennai</th>\n",
       "      <td>8739.04</td>\n",
       "    </tr>\n",
       "    <tr>\n",
       "      <th>Pune</th>\n",
       "      <td>7595.00</td>\n",
       "    </tr>\n",
       "    <tr>\n",
       "      <th>Jaipur</th>\n",
       "      <td>6514.05</td>\n",
       "    </tr>\n",
       "    <tr>\n",
       "      <th>Kolkata</th>\n",
       "      <td>6313.87</td>\n",
       "    </tr>\n",
       "  </tbody>\n",
       "</table>\n",
       "</div>"
      ],
      "text/plain": [
       "               Price\n",
       "Location            \n",
       "Coimbatore  16654.38\n",
       "Bangalore   14970.11\n",
       "Kochi       12360.42\n",
       "Hyderabad   10901.90\n",
       "Delhi       10756.89\n",
       "Mumbai      10380.27\n",
       "Ahmedabad    9368.65\n",
       "Chennai      8739.04\n",
       "Pune         7595.00\n",
       "Jaipur       6514.05\n",
       "Kolkata      6313.87"
      ]
     },
     "execution_count": 481,
     "metadata": {},
     "output_type": "execute_result"
    }
   ],
   "source": [
    "pd.DataFrame(np.round(df.groupby(\"Location\")[\"Price\"].mean(),2).sort_values(ascending=False))\n"
   ]
  },
  {
   "cell_type": "markdown",
   "id": "9923d660",
   "metadata": {},
   "source": [
    "#### The average price of each car type for each Location ?"
   ]
  },
  {
   "cell_type": "code",
   "execution_count": 482,
   "id": "dffd65aa",
   "metadata": {
    "tags": []
   },
   "outputs": [
    {
     "data": {
      "text/html": [
       "<div>\n",
       "<style scoped>\n",
       "    .dataframe tbody tr th:only-of-type {\n",
       "        vertical-align: middle;\n",
       "    }\n",
       "\n",
       "    .dataframe tbody tr th {\n",
       "        vertical-align: top;\n",
       "    }\n",
       "\n",
       "    .dataframe thead tr th {\n",
       "        text-align: left;\n",
       "    }\n",
       "\n",
       "    .dataframe thead tr:last-of-type th {\n",
       "        text-align: right;\n",
       "    }\n",
       "</style>\n",
       "<table border=\"1\" class=\"dataframe\">\n",
       "  <thead>\n",
       "    <tr>\n",
       "      <th></th>\n",
       "      <th colspan=\"11\" halign=\"left\">mean</th>\n",
       "    </tr>\n",
       "    <tr>\n",
       "      <th>Location</th>\n",
       "      <th>Ahmedabad</th>\n",
       "      <th>Bangalore</th>\n",
       "      <th>Chennai</th>\n",
       "      <th>Coimbatore</th>\n",
       "      <th>Delhi</th>\n",
       "      <th>Hyderabad</th>\n",
       "      <th>Jaipur</th>\n",
       "      <th>Kochi</th>\n",
       "      <th>Kolkata</th>\n",
       "      <th>Mumbai</th>\n",
       "      <th>Pune</th>\n",
       "    </tr>\n",
       "    <tr>\n",
       "      <th>Marque</th>\n",
       "      <th></th>\n",
       "      <th></th>\n",
       "      <th></th>\n",
       "      <th></th>\n",
       "      <th></th>\n",
       "      <th></th>\n",
       "      <th></th>\n",
       "      <th></th>\n",
       "      <th></th>\n",
       "      <th></th>\n",
       "      <th></th>\n",
       "    </tr>\n",
       "  </thead>\n",
       "  <tbody>\n",
       "    <tr>\n",
       "      <th>ambassador</th>\n",
       "      <td>0.000000</td>\n",
       "      <td>0.000000</td>\n",
       "      <td>1485.000000</td>\n",
       "      <td>0.000000</td>\n",
       "      <td>0.000000</td>\n",
       "      <td>0.000000</td>\n",
       "      <td>0.000000</td>\n",
       "      <td>0.000000</td>\n",
       "      <td>0.000000</td>\n",
       "      <td>0.000000</td>\n",
       "      <td>0.000000</td>\n",
       "    </tr>\n",
       "    <tr>\n",
       "      <th>audi</th>\n",
       "      <td>16060.000000</td>\n",
       "      <td>31293.281250</td>\n",
       "      <td>29363.888889</td>\n",
       "      <td>35782.340000</td>\n",
       "      <td>20937.481481</td>\n",
       "      <td>30391.862069</td>\n",
       "      <td>18012.500000</td>\n",
       "      <td>29448.320000</td>\n",
       "      <td>16475.937500</td>\n",
       "      <td>26498.560000</td>\n",
       "      <td>26675.000000</td>\n",
       "    </tr>\n",
       "    <tr>\n",
       "      <th>bentley</th>\n",
       "      <td>0.000000</td>\n",
       "      <td>0.000000</td>\n",
       "      <td>0.000000</td>\n",
       "      <td>0.000000</td>\n",
       "      <td>0.000000</td>\n",
       "      <td>64900.000000</td>\n",
       "      <td>0.000000</td>\n",
       "      <td>0.000000</td>\n",
       "      <td>0.000000</td>\n",
       "      <td>0.000000</td>\n",
       "      <td>0.000000</td>\n",
       "    </tr>\n",
       "    <tr>\n",
       "      <th>bmw</th>\n",
       "      <td>27016.733333</td>\n",
       "      <td>32812.000000</td>\n",
       "      <td>30973.148148</td>\n",
       "      <td>33863.666667</td>\n",
       "      <td>23028.500000</td>\n",
       "      <td>26701.333333</td>\n",
       "      <td>29865.000000</td>\n",
       "      <td>34521.960000</td>\n",
       "      <td>16596.250000</td>\n",
       "      <td>25873.346939</td>\n",
       "      <td>20875.360000</td>\n",
       "    </tr>\n",
       "    <tr>\n",
       "      <th>chevrolet</th>\n",
       "      <td>3877.500000</td>\n",
       "      <td>4376.428571</td>\n",
       "      <td>2651.846154</td>\n",
       "      <td>5048.000000</td>\n",
       "      <td>2240.333333</td>\n",
       "      <td>4460.500000</td>\n",
       "      <td>2634.500000</td>\n",
       "      <td>4094.750000</td>\n",
       "      <td>2589.277778</td>\n",
       "      <td>3322.916667</td>\n",
       "      <td>2528.166667</td>\n",
       "    </tr>\n",
       "    <tr>\n",
       "      <th>datsun</th>\n",
       "      <td>0.000000</td>\n",
       "      <td>3168.000000</td>\n",
       "      <td>3025.000000</td>\n",
       "      <td>3641.000000</td>\n",
       "      <td>0.000000</td>\n",
       "      <td>3289.000000</td>\n",
       "      <td>0.000000</td>\n",
       "      <td>3894.000000</td>\n",
       "      <td>2942.500000</td>\n",
       "      <td>0.000000</td>\n",
       "      <td>3877.500000</td>\n",
       "    </tr>\n",
       "    <tr>\n",
       "      <th>fiat</th>\n",
       "      <td>0.000000</td>\n",
       "      <td>0.000000</td>\n",
       "      <td>2612.500000</td>\n",
       "      <td>6237.000000</td>\n",
       "      <td>1815.000000</td>\n",
       "      <td>5005.000000</td>\n",
       "      <td>2461.250000</td>\n",
       "      <td>6435.000000</td>\n",
       "      <td>2774.750000</td>\n",
       "      <td>4757.500000</td>\n",
       "      <td>3813.333333</td>\n",
       "    </tr>\n",
       "    <tr>\n",
       "      <th>force</th>\n",
       "      <td>0.000000</td>\n",
       "      <td>0.000000</td>\n",
       "      <td>13200.000000</td>\n",
       "      <td>0.000000</td>\n",
       "      <td>0.000000</td>\n",
       "      <td>0.000000</td>\n",
       "      <td>0.000000</td>\n",
       "      <td>0.000000</td>\n",
       "      <td>8800.000000</td>\n",
       "      <td>0.000000</td>\n",
       "      <td>0.000000</td>\n",
       "    </tr>\n",
       "    <tr>\n",
       "      <th>ford</th>\n",
       "      <td>6288.333333</td>\n",
       "      <td>5188.764706</td>\n",
       "      <td>6544.755556</td>\n",
       "      <td>11935.687500</td>\n",
       "      <td>9023.235294</td>\n",
       "      <td>7373.200000</td>\n",
       "      <td>5236.000000</td>\n",
       "      <td>11546.965517</td>\n",
       "      <td>5188.000000</td>\n",
       "      <td>7482.588235</td>\n",
       "      <td>4967.416667</td>\n",
       "    </tr>\n",
       "    <tr>\n",
       "      <th>honda</th>\n",
       "      <td>6182.423077</td>\n",
       "      <td>6347.423077</td>\n",
       "      <td>5406.971429</td>\n",
       "      <td>7763.853659</td>\n",
       "      <td>4804.800000</td>\n",
       "      <td>7201.255319</td>\n",
       "      <td>5139.256410</td>\n",
       "      <td>7478.506173</td>\n",
       "      <td>4548.041667</td>\n",
       "      <td>5860.962963</td>\n",
       "      <td>5427.508197</td>\n",
       "    </tr>\n",
       "    <tr>\n",
       "      <th>hyundai</th>\n",
       "      <td>6372.108696</td>\n",
       "      <td>7121.653846</td>\n",
       "      <td>5290.690141</td>\n",
       "      <td>8662.045113</td>\n",
       "      <td>5634.719101</td>\n",
       "      <td>5298.950495</td>\n",
       "      <td>4944.238095</td>\n",
       "      <td>6940.678832</td>\n",
       "      <td>4212.312500</td>\n",
       "      <td>5943.369369</td>\n",
       "      <td>5272.895833</td>\n",
       "    </tr>\n",
       "    <tr>\n",
       "      <th>isuzu</th>\n",
       "      <td>0.000000</td>\n",
       "      <td>0.000000</td>\n",
       "      <td>0.000000</td>\n",
       "      <td>17699.000000</td>\n",
       "      <td>0.000000</td>\n",
       "      <td>0.000000</td>\n",
       "      <td>15400.000000</td>\n",
       "      <td>0.000000</td>\n",
       "      <td>0.000000</td>\n",
       "      <td>0.000000</td>\n",
       "      <td>0.000000</td>\n",
       "    </tr>\n",
       "    <tr>\n",
       "      <th>jaguar</th>\n",
       "      <td>0.000000</td>\n",
       "      <td>30048.333333</td>\n",
       "      <td>29150.000000</td>\n",
       "      <td>35151.285714</td>\n",
       "      <td>48730.000000</td>\n",
       "      <td>55137.500000</td>\n",
       "      <td>0.000000</td>\n",
       "      <td>38720.000000</td>\n",
       "      <td>24273.333333</td>\n",
       "      <td>48015.000000</td>\n",
       "      <td>30250.000000</td>\n",
       "    </tr>\n",
       "    <tr>\n",
       "      <th>jeep</th>\n",
       "      <td>0.000000</td>\n",
       "      <td>0.000000</td>\n",
       "      <td>0.000000</td>\n",
       "      <td>23705.000000</td>\n",
       "      <td>0.000000</td>\n",
       "      <td>18590.000000</td>\n",
       "      <td>21450.000000</td>\n",
       "      <td>19811.000000</td>\n",
       "      <td>17875.000000</td>\n",
       "      <td>20240.000000</td>\n",
       "      <td>20350.000000</td>\n",
       "    </tr>\n",
       "    <tr>\n",
       "      <th>lamborghini</th>\n",
       "      <td>0.000000</td>\n",
       "      <td>0.000000</td>\n",
       "      <td>0.000000</td>\n",
       "      <td>0.000000</td>\n",
       "      <td>132000.000000</td>\n",
       "      <td>0.000000</td>\n",
       "      <td>0.000000</td>\n",
       "      <td>0.000000</td>\n",
       "      <td>0.000000</td>\n",
       "      <td>0.000000</td>\n",
       "      <td>0.000000</td>\n",
       "    </tr>\n",
       "    <tr>\n",
       "      <th>land-rover</th>\n",
       "      <td>22550.000000</td>\n",
       "      <td>54450.000000</td>\n",
       "      <td>18150.000000</td>\n",
       "      <td>55432.300000</td>\n",
       "      <td>37632.692308</td>\n",
       "      <td>48917.000000</td>\n",
       "      <td>18150.000000</td>\n",
       "      <td>53785.875000</td>\n",
       "      <td>0.000000</td>\n",
       "      <td>31968.750000</td>\n",
       "      <td>25918.750000</td>\n",
       "    </tr>\n",
       "    <tr>\n",
       "      <th>mahindra</th>\n",
       "      <td>9724.000000</td>\n",
       "      <td>7934.473684</td>\n",
       "      <td>5984.500000</td>\n",
       "      <td>11735.263158</td>\n",
       "      <td>8928.562500</td>\n",
       "      <td>8337.592593</td>\n",
       "      <td>8937.823529</td>\n",
       "      <td>9883.823529</td>\n",
       "      <td>7935.190476</td>\n",
       "      <td>8408.931034</td>\n",
       "      <td>7414.000000</td>\n",
       "    </tr>\n",
       "    <tr>\n",
       "      <th>maruti</th>\n",
       "      <td>5056.700000</td>\n",
       "      <td>5292.571429</td>\n",
       "      <td>4850.645161</td>\n",
       "      <td>6864.473118</td>\n",
       "      <td>4906.294643</td>\n",
       "      <td>5037.544379</td>\n",
       "      <td>4116.798246</td>\n",
       "      <td>6477.495726</td>\n",
       "      <td>3995.062500</td>\n",
       "      <td>4950.156028</td>\n",
       "      <td>4268.376712</td>\n",
       "    </tr>\n",
       "    <tr>\n",
       "      <th>mercedes-benz</th>\n",
       "      <td>28272.200000</td>\n",
       "      <td>33282.764706</td>\n",
       "      <td>25975.000000</td>\n",
       "      <td>44943.708333</td>\n",
       "      <td>25702.794118</td>\n",
       "      <td>26973.964286</td>\n",
       "      <td>23672.916667</td>\n",
       "      <td>28117.157895</td>\n",
       "      <td>25378.375000</td>\n",
       "      <td>24788.396226</td>\n",
       "      <td>25130.346154</td>\n",
       "    </tr>\n",
       "    <tr>\n",
       "      <th>mini</th>\n",
       "      <td>24200.000000</td>\n",
       "      <td>29700.000000</td>\n",
       "      <td>24200.000000</td>\n",
       "      <td>21351.000000</td>\n",
       "      <td>24200.000000</td>\n",
       "      <td>29128.000000</td>\n",
       "      <td>25300.000000</td>\n",
       "      <td>33132.000000</td>\n",
       "      <td>43725.000000</td>\n",
       "      <td>29071.428571</td>\n",
       "      <td>28600.000000</td>\n",
       "    </tr>\n",
       "    <tr>\n",
       "      <th>mitsubishi</th>\n",
       "      <td>0.000000</td>\n",
       "      <td>15782.250000</td>\n",
       "      <td>5302.000000</td>\n",
       "      <td>23941.500000</td>\n",
       "      <td>11561.000000</td>\n",
       "      <td>15469.666667</td>\n",
       "      <td>13035.000000</td>\n",
       "      <td>13035.000000</td>\n",
       "      <td>16170.000000</td>\n",
       "      <td>7938.333333</td>\n",
       "      <td>10248.333333</td>\n",
       "    </tr>\n",
       "    <tr>\n",
       "      <th>nissan</th>\n",
       "      <td>4482.500000</td>\n",
       "      <td>7150.000000</td>\n",
       "      <td>4649.615385</td>\n",
       "      <td>6868.400000</td>\n",
       "      <td>3516.333333</td>\n",
       "      <td>6186.714286</td>\n",
       "      <td>4439.285714</td>\n",
       "      <td>6337.375000</td>\n",
       "      <td>3603.000000</td>\n",
       "      <td>6084.466667</td>\n",
       "      <td>4768.500000</td>\n",
       "    </tr>\n",
       "    <tr>\n",
       "      <th>porsche</th>\n",
       "      <td>0.000000</td>\n",
       "      <td>82500.000000</td>\n",
       "      <td>0.000000</td>\n",
       "      <td>57405.333333</td>\n",
       "      <td>67375.000000</td>\n",
       "      <td>49500.000000</td>\n",
       "      <td>0.000000</td>\n",
       "      <td>44745.250000</td>\n",
       "      <td>76450.000000</td>\n",
       "      <td>31716.666667</td>\n",
       "      <td>0.000000</td>\n",
       "    </tr>\n",
       "    <tr>\n",
       "      <th>renault</th>\n",
       "      <td>4936.250000</td>\n",
       "      <td>8155.230769</td>\n",
       "      <td>6132.500000</td>\n",
       "      <td>8930.428571</td>\n",
       "      <td>6159.083333</td>\n",
       "      <td>6127.687500</td>\n",
       "      <td>5200.555556</td>\n",
       "      <td>6221.050000</td>\n",
       "      <td>4557.666667</td>\n",
       "      <td>6039.578947</td>\n",
       "      <td>6193.000000</td>\n",
       "    </tr>\n",
       "    <tr>\n",
       "      <th>skoda</th>\n",
       "      <td>9918.333333</td>\n",
       "      <td>8463.888889</td>\n",
       "      <td>6013.333333</td>\n",
       "      <td>10640.666667</td>\n",
       "      <td>7696.944444</td>\n",
       "      <td>8244.133333</td>\n",
       "      <td>6028.000000</td>\n",
       "      <td>12133.000000</td>\n",
       "      <td>5635.000000</td>\n",
       "      <td>9640.400000</td>\n",
       "      <td>4607.058824</td>\n",
       "    </tr>\n",
       "    <tr>\n",
       "      <th>tata</th>\n",
       "      <td>3385.555556</td>\n",
       "      <td>4486.625000</td>\n",
       "      <td>2769.904762</td>\n",
       "      <td>5363.500000</td>\n",
       "      <td>5217.142857</td>\n",
       "      <td>3738.428571</td>\n",
       "      <td>4508.952381</td>\n",
       "      <td>5027.000000</td>\n",
       "      <td>3645.583333</td>\n",
       "      <td>4419.000000</td>\n",
       "      <td>3081.294118</td>\n",
       "    </tr>\n",
       "    <tr>\n",
       "      <th>toyota</th>\n",
       "      <td>13906.444444</td>\n",
       "      <td>14855.210526</td>\n",
       "      <td>10960.125000</td>\n",
       "      <td>16590.378378</td>\n",
       "      <td>12851.215385</td>\n",
       "      <td>14176.877193</td>\n",
       "      <td>13704.705882</td>\n",
       "      <td>15689.666667</td>\n",
       "      <td>7361.000000</td>\n",
       "      <td>11400.040816</td>\n",
       "      <td>12711.875000</td>\n",
       "    </tr>\n",
       "    <tr>\n",
       "      <th>volkswagen</th>\n",
       "      <td>5536.666667</td>\n",
       "      <td>5561.187500</td>\n",
       "      <td>6292.868421</td>\n",
       "      <td>7947.703704</td>\n",
       "      <td>4051.666667</td>\n",
       "      <td>6612.974359</td>\n",
       "      <td>6706.333333</td>\n",
       "      <td>6322.800000</td>\n",
       "      <td>3850.000000</td>\n",
       "      <td>5743.941176</td>\n",
       "      <td>5521.676471</td>\n",
       "    </tr>\n",
       "    <tr>\n",
       "      <th>volvo</th>\n",
       "      <td>17600.000000</td>\n",
       "      <td>23100.000000</td>\n",
       "      <td>10587.500000</td>\n",
       "      <td>26796.000000</td>\n",
       "      <td>17600.000000</td>\n",
       "      <td>24244.000000</td>\n",
       "      <td>0.000000</td>\n",
       "      <td>22429.000000</td>\n",
       "      <td>0.000000</td>\n",
       "      <td>19415.000000</td>\n",
       "      <td>16390.000000</td>\n",
       "    </tr>\n",
       "  </tbody>\n",
       "</table>\n",
       "</div>"
      ],
      "text/plain": [
       "                       mean                                            \\\n",
       "Location          Ahmedabad     Bangalore       Chennai    Coimbatore   \n",
       "Marque                                                                  \n",
       "ambassador         0.000000      0.000000   1485.000000      0.000000   \n",
       "audi           16060.000000  31293.281250  29363.888889  35782.340000   \n",
       "bentley            0.000000      0.000000      0.000000      0.000000   \n",
       "bmw            27016.733333  32812.000000  30973.148148  33863.666667   \n",
       "chevrolet       3877.500000   4376.428571   2651.846154   5048.000000   \n",
       "datsun             0.000000   3168.000000   3025.000000   3641.000000   \n",
       "fiat               0.000000      0.000000   2612.500000   6237.000000   \n",
       "force              0.000000      0.000000  13200.000000      0.000000   \n",
       "ford            6288.333333   5188.764706   6544.755556  11935.687500   \n",
       "honda           6182.423077   6347.423077   5406.971429   7763.853659   \n",
       "hyundai         6372.108696   7121.653846   5290.690141   8662.045113   \n",
       "isuzu              0.000000      0.000000      0.000000  17699.000000   \n",
       "jaguar             0.000000  30048.333333  29150.000000  35151.285714   \n",
       "jeep               0.000000      0.000000      0.000000  23705.000000   \n",
       "lamborghini        0.000000      0.000000      0.000000      0.000000   \n",
       "land-rover     22550.000000  54450.000000  18150.000000  55432.300000   \n",
       "mahindra        9724.000000   7934.473684   5984.500000  11735.263158   \n",
       "maruti          5056.700000   5292.571429   4850.645161   6864.473118   \n",
       "mercedes-benz  28272.200000  33282.764706  25975.000000  44943.708333   \n",
       "mini           24200.000000  29700.000000  24200.000000  21351.000000   \n",
       "mitsubishi         0.000000  15782.250000   5302.000000  23941.500000   \n",
       "nissan          4482.500000   7150.000000   4649.615385   6868.400000   \n",
       "porsche            0.000000  82500.000000      0.000000  57405.333333   \n",
       "renault         4936.250000   8155.230769   6132.500000   8930.428571   \n",
       "skoda           9918.333333   8463.888889   6013.333333  10640.666667   \n",
       "tata            3385.555556   4486.625000   2769.904762   5363.500000   \n",
       "toyota         13906.444444  14855.210526  10960.125000  16590.378378   \n",
       "volkswagen      5536.666667   5561.187500   6292.868421   7947.703704   \n",
       "volvo          17600.000000  23100.000000  10587.500000  26796.000000   \n",
       "\n",
       "                                                                        \\\n",
       "Location               Delhi     Hyderabad        Jaipur         Kochi   \n",
       "Marque                                                                   \n",
       "ambassador          0.000000      0.000000      0.000000      0.000000   \n",
       "audi            20937.481481  30391.862069  18012.500000  29448.320000   \n",
       "bentley             0.000000  64900.000000      0.000000      0.000000   \n",
       "bmw             23028.500000  26701.333333  29865.000000  34521.960000   \n",
       "chevrolet        2240.333333   4460.500000   2634.500000   4094.750000   \n",
       "datsun              0.000000   3289.000000      0.000000   3894.000000   \n",
       "fiat             1815.000000   5005.000000   2461.250000   6435.000000   \n",
       "force               0.000000      0.000000      0.000000      0.000000   \n",
       "ford             9023.235294   7373.200000   5236.000000  11546.965517   \n",
       "honda            4804.800000   7201.255319   5139.256410   7478.506173   \n",
       "hyundai          5634.719101   5298.950495   4944.238095   6940.678832   \n",
       "isuzu               0.000000      0.000000  15400.000000      0.000000   \n",
       "jaguar          48730.000000  55137.500000      0.000000  38720.000000   \n",
       "jeep                0.000000  18590.000000  21450.000000  19811.000000   \n",
       "lamborghini    132000.000000      0.000000      0.000000      0.000000   \n",
       "land-rover      37632.692308  48917.000000  18150.000000  53785.875000   \n",
       "mahindra         8928.562500   8337.592593   8937.823529   9883.823529   \n",
       "maruti           4906.294643   5037.544379   4116.798246   6477.495726   \n",
       "mercedes-benz   25702.794118  26973.964286  23672.916667  28117.157895   \n",
       "mini            24200.000000  29128.000000  25300.000000  33132.000000   \n",
       "mitsubishi      11561.000000  15469.666667  13035.000000  13035.000000   \n",
       "nissan           3516.333333   6186.714286   4439.285714   6337.375000   \n",
       "porsche         67375.000000  49500.000000      0.000000  44745.250000   \n",
       "renault          6159.083333   6127.687500   5200.555556   6221.050000   \n",
       "skoda            7696.944444   8244.133333   6028.000000  12133.000000   \n",
       "tata             5217.142857   3738.428571   4508.952381   5027.000000   \n",
       "toyota          12851.215385  14176.877193  13704.705882  15689.666667   \n",
       "volkswagen       4051.666667   6612.974359   6706.333333   6322.800000   \n",
       "volvo           17600.000000  24244.000000      0.000000  22429.000000   \n",
       "\n",
       "                                                         \n",
       "Location            Kolkata        Mumbai          Pune  \n",
       "Marque                                                   \n",
       "ambassador         0.000000      0.000000      0.000000  \n",
       "audi           16475.937500  26498.560000  26675.000000  \n",
       "bentley            0.000000      0.000000      0.000000  \n",
       "bmw            16596.250000  25873.346939  20875.360000  \n",
       "chevrolet       2589.277778   3322.916667   2528.166667  \n",
       "datsun          2942.500000      0.000000   3877.500000  \n",
       "fiat            2774.750000   4757.500000   3813.333333  \n",
       "force           8800.000000      0.000000      0.000000  \n",
       "ford            5188.000000   7482.588235   4967.416667  \n",
       "honda           4548.041667   5860.962963   5427.508197  \n",
       "hyundai         4212.312500   5943.369369   5272.895833  \n",
       "isuzu              0.000000      0.000000      0.000000  \n",
       "jaguar         24273.333333  48015.000000  30250.000000  \n",
       "jeep           17875.000000  20240.000000  20350.000000  \n",
       "lamborghini        0.000000      0.000000      0.000000  \n",
       "land-rover         0.000000  31968.750000  25918.750000  \n",
       "mahindra        7935.190476   8408.931034   7414.000000  \n",
       "maruti          3995.062500   4950.156028   4268.376712  \n",
       "mercedes-benz  25378.375000  24788.396226  25130.346154  \n",
       "mini           43725.000000  29071.428571  28600.000000  \n",
       "mitsubishi     16170.000000   7938.333333  10248.333333  \n",
       "nissan          3603.000000   6084.466667   4768.500000  \n",
       "porsche        76450.000000  31716.666667      0.000000  \n",
       "renault         4557.666667   6039.578947   6193.000000  \n",
       "skoda           5635.000000   9640.400000   4607.058824  \n",
       "tata            3645.583333   4419.000000   3081.294118  \n",
       "toyota          7361.000000  11400.040816  12711.875000  \n",
       "volkswagen      3850.000000   5743.941176   5521.676471  \n",
       "volvo              0.000000  19415.000000  16390.000000  "
      ]
     },
     "execution_count": 482,
     "metadata": {},
     "output_type": "execute_result"
    }
   ],
   "source": [
    "pd.crosstab( index=df[\"Marque\" ],columns=  df[\"Location\"],values=df['Price']\n",
    "            ,aggfunc=[\"mean\"]).fillna(0)"
   ]
  },
  {
   "cell_type": "markdown",
   "id": "d624e639",
   "metadata": {},
   "source": [
    "> note \n",
    "- you can see that location Affects the price\n",
    "  - example\n",
    "      - Audi the distribute of car is more different in any Location\n",
    "     \n",
    "- you can find some car find in one Location \n",
    "   - Ambassador in China\n",
    "   - Lamborghini in Delhi\n",
    "   - Jaguar "
   ]
  },
  {
   "cell_type": "code",
   "execution_count": 483,
   "id": "dc42484d",
   "metadata": {
    "tags": []
   },
   "outputs": [
    {
     "data": {
      "text/html": [
       "<div>\n",
       "<style scoped>\n",
       "    .dataframe tbody tr th:only-of-type {\n",
       "        vertical-align: middle;\n",
       "    }\n",
       "\n",
       "    .dataframe tbody tr th {\n",
       "        vertical-align: top;\n",
       "    }\n",
       "\n",
       "    .dataframe thead th {\n",
       "        text-align: right;\n",
       "    }\n",
       "</style>\n",
       "<table border=\"1\" class=\"dataframe\">\n",
       "  <thead>\n",
       "    <tr style=\"text-align: right;\">\n",
       "      <th></th>\n",
       "      <th>Marque</th>\n",
       "      <th>Model</th>\n",
       "      <th>Location</th>\n",
       "      <th>Year</th>\n",
       "      <th>Kilometers_Driven</th>\n",
       "      <th>Fuel_Type</th>\n",
       "      <th>Transmission</th>\n",
       "      <th>Owner_Type</th>\n",
       "      <th>Mileage</th>\n",
       "      <th>Engine</th>\n",
       "      <th>Power</th>\n",
       "      <th>Seats</th>\n",
       "      <th>Price</th>\n",
       "      <th>Type</th>\n",
       "    </tr>\n",
       "  </thead>\n",
       "  <tbody>\n",
       "    <tr>\n",
       "      <th>3697</th>\n",
       "      <td>bmw</td>\n",
       "      <td>5 series 520d luxury line</td>\n",
       "      <td>Ahmedabad</td>\n",
       "      <td>2010</td>\n",
       "      <td>46000</td>\n",
       "      <td>Diesel</td>\n",
       "      <td>Automatic</td>\n",
       "      <td>First</td>\n",
       "      <td>22.48</td>\n",
       "      <td>1995.0</td>\n",
       "      <td>190.0</td>\n",
       "      <td>5.0</td>\n",
       "      <td>18150.0</td>\n",
       "      <td>bmw</td>\n",
       "    </tr>\n",
       "  </tbody>\n",
       "</table>\n",
       "</div>"
      ],
      "text/plain": [
       "     Marque                      Model   Location  Year  Kilometers_Driven  \\\n",
       "3697    bmw  5 series 520d luxury line  Ahmedabad  2010              46000   \n",
       "\n",
       "     Fuel_Type Transmission Owner_Type  Mileage  Engine  Power  Seats  \\\n",
       "3697    Diesel    Automatic      First    22.48  1995.0  190.0    5.0   \n",
       "\n",
       "        Price Type  \n",
       "3697  18150.0  bmw  "
      ]
     },
     "execution_count": 483,
     "metadata": {},
     "output_type": "execute_result"
    }
   ],
   "source": [
    "df.sample()"
   ]
  },
  {
   "cell_type": "code",
   "execution_count": 49,
   "id": "d4008c24",
   "metadata": {},
   "outputs": [
    {
     "name": "stdout",
     "output_type": "stream",
     "text": [
      "Pearson correlation coefficient after scaling: -0.008298378118258662\n",
      "P-value after scaling: 0.5248545776719068\n"
     ]
    }
   ],
   "source": [
    "from sklearn.preprocessing import MinMaxScaler\n",
    "from sklearn.preprocessing import StandardScaler\n",
    "from scipy.stats import pearsonr\n",
    "\n",
    "kilometers = df['Kilometers_Driven']\n",
    "price = df['Price']\n",
    "\n",
    "kilometers_reshaped = kilometers.values.reshape(-1, 1)\n",
    "\n",
    "#\n",
    "scaler = StandardScaler()\n",
    "\n",
    "kilometers_scaled = scaler.fit_transform(kilometers_reshaped)\n",
    "\n",
    "corr_coef, p_value = pearsonr(kilometers_scaled.flatten(), price)\n",
    "\n",
    "# Output the results\n",
    "print(\"Pearson correlation coefficient after scaling:\", corr_coef)\n",
    "print(\"P-value after scaling:\", p_value)\n"
   ]
  },
  {
   "cell_type": "markdown",
   "id": "7619b983",
   "metadata": {
    "tags": []
   },
   "source": [
    "> note\n",
    "- there is a significant correlation between the standardized 'Number of Kilometers' and the 'Price' of the vehicles in the dataset."
   ]
  },
  {
   "cell_type": "code",
   "execution_count": 50,
   "id": "653c2aad",
   "metadata": {
    "tags": []
   },
   "outputs": [
    {
     "data": {
      "text/plain": [
       "<Axes: xlabel='Transmission', ylabel='count'>"
      ]
     },
     "execution_count": 50,
     "metadata": {},
     "output_type": "execute_result"
    },
    {
     "data": {
      "image/png": "[encoded data removed]",
      "text/plain": [
       "<Figure size 640x480 with 1 Axes>"
      ]
     },
     "metadata": {},
     "output_type": "display_data"
    }
   ],
   "source": [
    "sns.countplot(x= df[\"Transmission\"])"
   ]
  },
  {
   "cell_type": "code",
   "execution_count": 51,
   "id": "14364bf4",
   "metadata": {
    "tags": []
   },
   "outputs": [
    {
     "name": "stdout",
     "output_type": "stream",
     "text": [
      "ANOVA F-value: 3065.848019563559\n",
      "ANOVA p-value: 0.0\n"
     ]
    }
   ],
   "source": [
    "from scipy.stats import f_oneway\n",
    "\n",
    "\n",
    "Transmission_groups = [df[df['Transmission'] == category]['Price'] for category in df['Transmission'].unique()]\n",
    "\n",
    "# Perform ANOVA test\n",
    "anova_result = f_oneway(*Transmission_groups)\n",
    "\n",
    "# Output the ANOVA test result\n",
    "print(\"ANOVA F-value:\", anova_result.statistic)\n",
    "print(\"ANOVA p-value:\", anova_result.pvalue)\n"
   ]
  },
  {
   "cell_type": "markdown",
   "id": "14c08788",
   "metadata": {},
   "source": [
    "> note\n",
    "- strong relationship between the transmission type and the price of cars."
   ]
  },
  {
   "cell_type": "markdown",
   "id": "cdab28a8",
   "metadata": {},
   "source": [
    "> #### summary\n",
    "- you can see the some simple Question and read the Result from nodes \n",
    "  - if you have another Question at EDA you can write a comment"
   ]
  },
  {
   "cell_type": "markdown",
   "id": "1572c889",
   "metadata": {},
   "source": [
    "# 🚨 Fin de l'EDA 🚨"
   ]
  }
 ],
 "metadata": {
  "kernelspec": {
   "display_name": "venv",
   "language": "python",
   "name": "python3"
  },
  "language_info": {
   "codemirror_mode": {
    "name": "ipython",
    "version": 3
   },
   "file_extension": ".py",
   "mimetype": "text/x-python",
   "name": "python",
   "nbconvert_exporter": "python",
   "pygments_lexer": "ipython3",
   "version": "3.12.3"
  }
 },
 "nbformat": 4,
 "nbformat_minor": 5
}
